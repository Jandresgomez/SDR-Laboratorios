{
 "cells": [
  {
   "cell_type": "markdown",
   "metadata": {
    "colab_type": "text",
    "id": "view-in-github"
   },
   "source": [
    "<a href=\"https://colab.research.google.com/github/andresmore/MINE4201-Labs/blob/main/MINE_4201_SR_Laboratorio_1.ipynb\" target=\"_parent\"><img src=\"https://colab.research.google.com/assets/colab-badge.svg\" alt=\"Open In Colab\"/></a>"
   ]
  },
  {
   "cell_type": "markdown",
   "metadata": {
    "id": "-ODlNBWj3QZx"
   },
   "source": [
    "# MINE 4201- SR -  Laboratorio 1 \n",
    "# Exploración modelos KNN\n",
    "\n"
   ]
  },
  {
   "cell_type": "markdown",
   "metadata": {
    "id": "ed1-j-PSjcXX"
   },
   "source": [
    "Vamos a utilizar las siguientes librerias en el laboratorio\n"
   ]
  },
  {
   "cell_type": "code",
   "execution_count": 1,
   "metadata": {
    "id": "g7SNsxhDkO6k",
    "scrolled": true
   },
   "outputs": [
    {
     "name": "stdout",
     "output_type": "stream",
     "text": [
      "Requirement already satisfied: numpy in c:\\users\\jagv1\\anaconda3\\lib\\site-packages (1.19.2)\n",
      "Requirement already satisfied: scikit-surprise in c:\\users\\jagv1\\anaconda3\\lib\\site-packages (1.1.1)\n",
      "Requirement already satisfied: scipy>=1.0.0 in c:\\users\\jagv1\\anaconda3\\lib\\site-packages (from scikit-surprise) (1.5.2)\n",
      "Requirement already satisfied: numpy>=1.11.2 in c:\\users\\jagv1\\anaconda3\\lib\\site-packages (from scikit-surprise) (1.19.2)\n",
      "Requirement already satisfied: six>=1.10.0 in c:\\users\\jagv1\\anaconda3\\lib\\site-packages (from scikit-surprise) (1.15.0)\n",
      "Requirement already satisfied: joblib>=0.11 in c:\\users\\jagv1\\anaconda3\\lib\\site-packages (from scikit-surprise) (0.17.0)\n",
      "Requirement already satisfied: pandas in c:\\users\\jagv1\\anaconda3\\lib\\site-packages (1.1.3)\n",
      "Requirement already satisfied: pytz>=2017.2 in c:\\users\\jagv1\\anaconda3\\lib\\site-packages (from pandas) (2020.1)\n",
      "Requirement already satisfied: python-dateutil>=2.7.3 in c:\\users\\jagv1\\anaconda3\\lib\\site-packages (from pandas) (2.8.1)\n",
      "Requirement already satisfied: numpy>=1.15.4 in c:\\users\\jagv1\\anaconda3\\lib\\site-packages (from pandas) (1.19.2)\n",
      "Requirement already satisfied: six>=1.5 in c:\\users\\jagv1\\anaconda3\\lib\\site-packages (from python-dateutil>=2.7.3->pandas) (1.15.0)\n",
      "Requirement already satisfied: seaborn in c:\\users\\jagv1\\anaconda3\\lib\\site-packages (0.11.0)\n",
      "Requirement already satisfied: scipy>=1.0 in c:\\users\\jagv1\\anaconda3\\lib\\site-packages (from seaborn) (1.5.2)\n",
      "Requirement already satisfied: pandas>=0.23 in c:\\users\\jagv1\\anaconda3\\lib\\site-packages (from seaborn) (1.1.3)\n",
      "Requirement already satisfied: numpy>=1.15 in c:\\users\\jagv1\\anaconda3\\lib\\site-packages (from seaborn) (1.19.2)\n",
      "Requirement already satisfied: matplotlib>=2.2 in c:\\users\\jagv1\\anaconda3\\lib\\site-packages (from seaborn) (3.3.2)\n",
      "Requirement already satisfied: pytz>=2017.2 in c:\\users\\jagv1\\anaconda3\\lib\\site-packages (from pandas>=0.23->seaborn) (2020.1)\n",
      "Requirement already satisfied: python-dateutil>=2.7.3 in c:\\users\\jagv1\\anaconda3\\lib\\site-packages (from pandas>=0.23->seaborn) (2.8.1)\n",
      "Requirement already satisfied: cycler>=0.10 in c:\\users\\jagv1\\anaconda3\\lib\\site-packages (from matplotlib>=2.2->seaborn) (0.10.0)\n",
      "Requirement already satisfied: pyparsing!=2.0.4,!=2.1.2,!=2.1.6,>=2.0.3 in c:\\users\\jagv1\\anaconda3\\lib\\site-packages (from matplotlib>=2.2->seaborn) (2.4.7)\n",
      "Requirement already satisfied: pillow>=6.2.0 in c:\\users\\jagv1\\anaconda3\\lib\\site-packages (from matplotlib>=2.2->seaborn) (8.0.1)\n",
      "Requirement already satisfied: certifi>=2020.06.20 in c:\\users\\jagv1\\anaconda3\\lib\\site-packages (from matplotlib>=2.2->seaborn) (2020.6.20)\n",
      "Requirement already satisfied: kiwisolver>=1.0.1 in c:\\users\\jagv1\\anaconda3\\lib\\site-packages (from matplotlib>=2.2->seaborn) (1.3.0)\n",
      "Requirement already satisfied: six>=1.5 in c:\\users\\jagv1\\anaconda3\\lib\\site-packages (from python-dateutil>=2.7.3->pandas>=0.23->seaborn) (1.15.0)\n",
      "Requirement already satisfied: matplotlib in c:\\users\\jagv1\\anaconda3\\lib\\site-packages (3.3.2)\n",
      "Requirement already satisfied: numpy>=1.15 in c:\\users\\jagv1\\anaconda3\\lib\\site-packages (from matplotlib) (1.19.2)\n",
      "Requirement already satisfied: pyparsing!=2.0.4,!=2.1.2,!=2.1.6,>=2.0.3 in c:\\users\\jagv1\\anaconda3\\lib\\site-packages (from matplotlib) (2.4.7)\n",
      "Requirement already satisfied: python-dateutil>=2.1 in c:\\users\\jagv1\\anaconda3\\lib\\site-packages (from matplotlib) (2.8.1)\n",
      "Requirement already satisfied: certifi>=2020.06.20 in c:\\users\\jagv1\\anaconda3\\lib\\site-packages (from matplotlib) (2020.6.20)\n",
      "Requirement already satisfied: kiwisolver>=1.0.1 in c:\\users\\jagv1\\anaconda3\\lib\\site-packages (from matplotlib) (1.3.0)\n",
      "Requirement already satisfied: pillow>=6.2.0 in c:\\users\\jagv1\\anaconda3\\lib\\site-packages (from matplotlib) (8.0.1)\n",
      "Requirement already satisfied: cycler>=0.10 in c:\\users\\jagv1\\anaconda3\\lib\\site-packages (from matplotlib) (0.10.0)\n",
      "Requirement already satisfied: six>=1.5 in c:\\users\\jagv1\\anaconda3\\lib\\site-packages (from python-dateutil>=2.1->matplotlib) (1.15.0)\n"
     ]
    }
   ],
   "source": [
    "!pip install numpy\n",
    "!pip install scikit-surprise\n",
    "!pip install pandas\n",
    "!pip install seaborn\n",
    "!pip install matplotlib"
   ]
  },
  {
   "cell_type": "code",
   "execution_count": 2,
   "metadata": {
    "id": "Ue3y8dqL7osB"
   },
   "outputs": [
    {
     "data": {
      "text/plain": [
       "'C:\\\\Users\\\\jagv1\\\\Development\\\\Workspaces\\\\SDR\\\\Laboratorios\\\\Laboratorio1'"
      ]
     },
     "execution_count": 2,
     "metadata": {},
     "output_type": "execute_result"
    }
   ],
   "source": [
    "pwd"
   ]
  },
  {
   "cell_type": "code",
   "execution_count": 3,
   "metadata": {
    "id": "MZy484IS5l04"
   },
   "outputs": [],
   "source": [
    "import os\n",
    "import math\n",
    "import numpy as np\n",
    "import pandas as pd\n",
    "import seaborn as sns\n",
    "import matplotlib.pyplot as plt\n",
    "from surprise import Reader\n",
    "from surprise import Dataset\n",
    "from surprise.model_selection import train_test_split\n",
    "from surprise import KNNBasic\n",
    "from surprise import accuracy\n",
    "import random\n",
    "\n",
    "#Para garantizar reproducibilidad en resultados\n",
    "seed = 10\n",
    "random.seed(seed)\n",
    "np.random.seed(seed)\n"
   ]
  },
  {
   "cell_type": "markdown",
   "metadata": {
    "id": "VApWKvPdWmtm"
   },
   "source": [
    "## Suba al servidor los archivos u.data y u.item que se encuentran en el dataset descargado, en la pestaña files"
   ]
  },
  {
   "cell_type": "code",
   "execution_count": 4,
   "metadata": {
    "id": "-ayxnwj06r4C"
   },
   "outputs": [
    {
     "name": "stdout",
     "output_type": "stream",
     "text": [
      "Los archivos han sido cargados\n"
     ]
    }
   ],
   "source": [
    "if not (os.path.exists('./content/u.data') and os.path.exists('./content/u.item')):\n",
    "  raise ValueError('Los archivos u.data e u.item no fueron encontrados en el path')\n",
    "else:\n",
    "  print(\"Los archivos han sido cargados\")"
   ]
  },
  {
   "cell_type": "code",
   "execution_count": 5,
   "metadata": {
    "id": "2fY0BV4Y7Cfn"
   },
   "outputs": [],
   "source": [
    "ratings=pd.read_csv('./content/u.data', sep = '\\t', names = [ 'user_id', 'item_id', 'rating', 'timestamp' ] )"
   ]
  },
  {
   "cell_type": "code",
   "execution_count": 6,
   "metadata": {
    "id": "4xh6HByEXjLN"
   },
   "outputs": [
    {
     "name": "stderr",
     "output_type": "stream",
     "text": [
      "<ipython-input-6-dad7e3c21798>:1: ParserWarning: Falling back to the 'python' engine because the 'c' engine does not support regex separators (separators > 1 char and different from '\\s+' are interpreted as regex); you can avoid this warning by specifying engine='python'.\n",
      "  items=pd.read_csv('./content/u.item', sep = '\\|', names = ['movie id' ,'movie title','release date','video release date','IMDb URL ','unknown',\n"
     ]
    }
   ],
   "source": [
    "items=pd.read_csv('./content/u.item', sep = '\\|', names = ['movie id' ,'movie title','release date','video release date','IMDb URL ','unknown',\n",
    "                                                          'Action','Adventure','Animation','Children','Comedy','Crime','Documentary','Drama',\n",
    "                                                          'Fantasy','Film-Noir','Horror','Musical','Mystery','Romance','Sci-Fi','Thriller','War','Western'], encoding='latin-1' )"
   ]
  },
  {
   "cell_type": "markdown",
   "metadata": {
    "id": "hyGTV0lPiGZJ"
   },
   "source": [
    "Verifique que los ratings y los items hayan sido cargados correctamente\n",
    "\n",
    "\n",
    "\n"
   ]
  },
  {
   "cell_type": "code",
   "execution_count": 7,
   "metadata": {
    "id": "JF-3Z1T4iAaI"
   },
   "outputs": [
    {
     "data": {
      "text/html": [
       "<div>\n",
       "<style scoped>\n",
       "    .dataframe tbody tr th:only-of-type {\n",
       "        vertical-align: middle;\n",
       "    }\n",
       "\n",
       "    .dataframe tbody tr th {\n",
       "        vertical-align: top;\n",
       "    }\n",
       "\n",
       "    .dataframe thead th {\n",
       "        text-align: right;\n",
       "    }\n",
       "</style>\n",
       "<table border=\"1\" class=\"dataframe\">\n",
       "  <thead>\n",
       "    <tr style=\"text-align: right;\">\n",
       "      <th></th>\n",
       "      <th>user_id</th>\n",
       "      <th>item_id</th>\n",
       "      <th>rating</th>\n",
       "      <th>timestamp</th>\n",
       "    </tr>\n",
       "  </thead>\n",
       "  <tbody>\n",
       "    <tr>\n",
       "      <th>0</th>\n",
       "      <td>196</td>\n",
       "      <td>242</td>\n",
       "      <td>3</td>\n",
       "      <td>881250949</td>\n",
       "    </tr>\n",
       "    <tr>\n",
       "      <th>1</th>\n",
       "      <td>186</td>\n",
       "      <td>302</td>\n",
       "      <td>3</td>\n",
       "      <td>891717742</td>\n",
       "    </tr>\n",
       "    <tr>\n",
       "      <th>2</th>\n",
       "      <td>22</td>\n",
       "      <td>377</td>\n",
       "      <td>1</td>\n",
       "      <td>878887116</td>\n",
       "    </tr>\n",
       "    <tr>\n",
       "      <th>3</th>\n",
       "      <td>244</td>\n",
       "      <td>51</td>\n",
       "      <td>2</td>\n",
       "      <td>880606923</td>\n",
       "    </tr>\n",
       "    <tr>\n",
       "      <th>4</th>\n",
       "      <td>166</td>\n",
       "      <td>346</td>\n",
       "      <td>1</td>\n",
       "      <td>886397596</td>\n",
       "    </tr>\n",
       "  </tbody>\n",
       "</table>\n",
       "</div>"
      ],
      "text/plain": [
       "   user_id  item_id  rating  timestamp\n",
       "0      196      242       3  881250949\n",
       "1      186      302       3  891717742\n",
       "2       22      377       1  878887116\n",
       "3      244       51       2  880606923\n",
       "4      166      346       1  886397596"
      ]
     },
     "execution_count": 7,
     "metadata": {},
     "output_type": "execute_result"
    }
   ],
   "source": [
    "ratings.head()"
   ]
  },
  {
   "cell_type": "code",
   "execution_count": 8,
   "metadata": {
    "id": "ztMyJLZjRIiU"
   },
   "outputs": [],
   "source": [
    "# Se cambia el índice por la columna movie id\n",
    "items=items.set_index(items['movie id'])"
   ]
  },
  {
   "cell_type": "code",
   "execution_count": 9,
   "metadata": {
    "id": "2_B1Bpq3xF18"
   },
   "outputs": [
    {
     "data": {
      "text/html": [
       "<div>\n",
       "<style scoped>\n",
       "    .dataframe tbody tr th:only-of-type {\n",
       "        vertical-align: middle;\n",
       "    }\n",
       "\n",
       "    .dataframe tbody tr th {\n",
       "        vertical-align: top;\n",
       "    }\n",
       "\n",
       "    .dataframe thead th {\n",
       "        text-align: right;\n",
       "    }\n",
       "</style>\n",
       "<table border=\"1\" class=\"dataframe\">\n",
       "  <thead>\n",
       "    <tr style=\"text-align: right;\">\n",
       "      <th></th>\n",
       "      <th>movie id</th>\n",
       "      <th>movie title</th>\n",
       "      <th>release date</th>\n",
       "      <th>video release date</th>\n",
       "      <th>IMDb URL</th>\n",
       "      <th>unknown</th>\n",
       "      <th>Action</th>\n",
       "      <th>Adventure</th>\n",
       "      <th>Animation</th>\n",
       "      <th>Children</th>\n",
       "      <th>...</th>\n",
       "      <th>Fantasy</th>\n",
       "      <th>Film-Noir</th>\n",
       "      <th>Horror</th>\n",
       "      <th>Musical</th>\n",
       "      <th>Mystery</th>\n",
       "      <th>Romance</th>\n",
       "      <th>Sci-Fi</th>\n",
       "      <th>Thriller</th>\n",
       "      <th>War</th>\n",
       "      <th>Western</th>\n",
       "    </tr>\n",
       "    <tr>\n",
       "      <th>movie id</th>\n",
       "      <th></th>\n",
       "      <th></th>\n",
       "      <th></th>\n",
       "      <th></th>\n",
       "      <th></th>\n",
       "      <th></th>\n",
       "      <th></th>\n",
       "      <th></th>\n",
       "      <th></th>\n",
       "      <th></th>\n",
       "      <th></th>\n",
       "      <th></th>\n",
       "      <th></th>\n",
       "      <th></th>\n",
       "      <th></th>\n",
       "      <th></th>\n",
       "      <th></th>\n",
       "      <th></th>\n",
       "      <th></th>\n",
       "      <th></th>\n",
       "      <th></th>\n",
       "    </tr>\n",
       "  </thead>\n",
       "  <tbody>\n",
       "    <tr>\n",
       "      <th>1</th>\n",
       "      <td>1</td>\n",
       "      <td>Toy Story (1995)</td>\n",
       "      <td>01-Jan-1995</td>\n",
       "      <td>NaN</td>\n",
       "      <td>http://us.imdb.com/M/title-exact?Toy%20Story%2...</td>\n",
       "      <td>0</td>\n",
       "      <td>0</td>\n",
       "      <td>0</td>\n",
       "      <td>1</td>\n",
       "      <td>1</td>\n",
       "      <td>...</td>\n",
       "      <td>0</td>\n",
       "      <td>0</td>\n",
       "      <td>0</td>\n",
       "      <td>0</td>\n",
       "      <td>0</td>\n",
       "      <td>0</td>\n",
       "      <td>0</td>\n",
       "      <td>0</td>\n",
       "      <td>0</td>\n",
       "      <td>0</td>\n",
       "    </tr>\n",
       "    <tr>\n",
       "      <th>2</th>\n",
       "      <td>2</td>\n",
       "      <td>GoldenEye (1995)</td>\n",
       "      <td>01-Jan-1995</td>\n",
       "      <td>NaN</td>\n",
       "      <td>http://us.imdb.com/M/title-exact?GoldenEye%20(...</td>\n",
       "      <td>0</td>\n",
       "      <td>1</td>\n",
       "      <td>1</td>\n",
       "      <td>0</td>\n",
       "      <td>0</td>\n",
       "      <td>...</td>\n",
       "      <td>0</td>\n",
       "      <td>0</td>\n",
       "      <td>0</td>\n",
       "      <td>0</td>\n",
       "      <td>0</td>\n",
       "      <td>0</td>\n",
       "      <td>0</td>\n",
       "      <td>1</td>\n",
       "      <td>0</td>\n",
       "      <td>0</td>\n",
       "    </tr>\n",
       "    <tr>\n",
       "      <th>3</th>\n",
       "      <td>3</td>\n",
       "      <td>Four Rooms (1995)</td>\n",
       "      <td>01-Jan-1995</td>\n",
       "      <td>NaN</td>\n",
       "      <td>http://us.imdb.com/M/title-exact?Four%20Rooms%...</td>\n",
       "      <td>0</td>\n",
       "      <td>0</td>\n",
       "      <td>0</td>\n",
       "      <td>0</td>\n",
       "      <td>0</td>\n",
       "      <td>...</td>\n",
       "      <td>0</td>\n",
       "      <td>0</td>\n",
       "      <td>0</td>\n",
       "      <td>0</td>\n",
       "      <td>0</td>\n",
       "      <td>0</td>\n",
       "      <td>0</td>\n",
       "      <td>1</td>\n",
       "      <td>0</td>\n",
       "      <td>0</td>\n",
       "    </tr>\n",
       "    <tr>\n",
       "      <th>4</th>\n",
       "      <td>4</td>\n",
       "      <td>Get Shorty (1995)</td>\n",
       "      <td>01-Jan-1995</td>\n",
       "      <td>NaN</td>\n",
       "      <td>http://us.imdb.com/M/title-exact?Get%20Shorty%...</td>\n",
       "      <td>0</td>\n",
       "      <td>1</td>\n",
       "      <td>0</td>\n",
       "      <td>0</td>\n",
       "      <td>0</td>\n",
       "      <td>...</td>\n",
       "      <td>0</td>\n",
       "      <td>0</td>\n",
       "      <td>0</td>\n",
       "      <td>0</td>\n",
       "      <td>0</td>\n",
       "      <td>0</td>\n",
       "      <td>0</td>\n",
       "      <td>0</td>\n",
       "      <td>0</td>\n",
       "      <td>0</td>\n",
       "    </tr>\n",
       "    <tr>\n",
       "      <th>5</th>\n",
       "      <td>5</td>\n",
       "      <td>Copycat (1995)</td>\n",
       "      <td>01-Jan-1995</td>\n",
       "      <td>NaN</td>\n",
       "      <td>http://us.imdb.com/M/title-exact?Copycat%20(1995)</td>\n",
       "      <td>0</td>\n",
       "      <td>0</td>\n",
       "      <td>0</td>\n",
       "      <td>0</td>\n",
       "      <td>0</td>\n",
       "      <td>...</td>\n",
       "      <td>0</td>\n",
       "      <td>0</td>\n",
       "      <td>0</td>\n",
       "      <td>0</td>\n",
       "      <td>0</td>\n",
       "      <td>0</td>\n",
       "      <td>0</td>\n",
       "      <td>1</td>\n",
       "      <td>0</td>\n",
       "      <td>0</td>\n",
       "    </tr>\n",
       "  </tbody>\n",
       "</table>\n",
       "<p>5 rows × 24 columns</p>\n",
       "</div>"
      ],
      "text/plain": [
       "          movie id        movie title release date  video release date  \\\n",
       "movie id                                                                 \n",
       "1                1   Toy Story (1995)  01-Jan-1995                 NaN   \n",
       "2                2   GoldenEye (1995)  01-Jan-1995                 NaN   \n",
       "3                3  Four Rooms (1995)  01-Jan-1995                 NaN   \n",
       "4                4  Get Shorty (1995)  01-Jan-1995                 NaN   \n",
       "5                5     Copycat (1995)  01-Jan-1995                 NaN   \n",
       "\n",
       "                                                  IMDb URL   unknown  Action  \\\n",
       "movie id                                                                       \n",
       "1         http://us.imdb.com/M/title-exact?Toy%20Story%2...        0       0   \n",
       "2         http://us.imdb.com/M/title-exact?GoldenEye%20(...        0       1   \n",
       "3         http://us.imdb.com/M/title-exact?Four%20Rooms%...        0       0   \n",
       "4         http://us.imdb.com/M/title-exact?Get%20Shorty%...        0       1   \n",
       "5         http://us.imdb.com/M/title-exact?Copycat%20(1995)        0       0   \n",
       "\n",
       "          Adventure  Animation  Children  ...  Fantasy  Film-Noir  Horror  \\\n",
       "movie id                                  ...                               \n",
       "1                 0          1         1  ...        0          0       0   \n",
       "2                 1          0         0  ...        0          0       0   \n",
       "3                 0          0         0  ...        0          0       0   \n",
       "4                 0          0         0  ...        0          0       0   \n",
       "5                 0          0         0  ...        0          0       0   \n",
       "\n",
       "          Musical  Mystery  Romance  Sci-Fi  Thriller  War  Western  \n",
       "movie id                                                             \n",
       "1               0        0        0       0         0    0        0  \n",
       "2               0        0        0       0         1    0        0  \n",
       "3               0        0        0       0         1    0        0  \n",
       "4               0        0        0       0         0    0        0  \n",
       "5               0        0        0       0         1    0        0  \n",
       "\n",
       "[5 rows x 24 columns]"
      ]
     },
     "execution_count": 9,
     "metadata": {},
     "output_type": "execute_result"
    }
   ],
   "source": [
    "items.head()"
   ]
  },
  {
   "cell_type": "markdown",
   "metadata": {
    "id": "lkhrr5u0lVl_"
   },
   "source": [
    "## Visualice la distribución de ratings, ¿Qué puede decir al respecto?"
   ]
  },
  {
   "cell_type": "code",
   "execution_count": 10,
   "metadata": {
    "id": "CrVPRhE_ZkvM"
   },
   "outputs": [
    {
     "data": {
      "text/plain": [
       "<AxesSubplot:xlabel='count', ylabel='rating'>"
      ]
     },
     "execution_count": 10,
     "metadata": {},
     "output_type": "execute_result"
    },
    {
     "data": {
      "image/png": "[encoded data removed]",
      "text/plain": [
       "<Figure size 432x288 with 1 Axes>"
      ]
     },
     "metadata": {
      "needs_background": "light"
     },
     "output_type": "display_data"
    }
   ],
   "source": [
    "sns.countplot(y='rating', data=ratings)"
   ]
  },
  {
   "cell_type": "markdown",
   "metadata": {},
   "source": [
    "De la distribución de ratings podemos decir que la mayoria de los ratings son de entre 3 y 4 sobre 5, seguido de los ratings de 5 y despúes los que estan entre uno y dos. Con esto podemos concluir que muy pocos usuarios consideran que las peliculas que vieron son malas, la mayoria las consideran promedio o buenas y algunas son consideradas como excelentes."
   ]
  },
  {
   "cell_type": "markdown",
   "metadata": {
    "id": "Rvyd2GmRnegf"
   },
   "source": [
    "## En la siguiente celda se esta calculando el número de ratings por usuario y  el promedio de sus calificaciones, el dataframe esta ordenado por el número de calificaciones"
   ]
  },
  {
   "cell_type": "code",
   "execution_count": 11,
   "metadata": {
    "id": "JapJ5D8Sg8ZZ"
   },
   "outputs": [
    {
     "data": {
      "text/html": [
       "<div>\n",
       "<style scoped>\n",
       "    .dataframe tbody tr th:only-of-type {\n",
       "        vertical-align: middle;\n",
       "    }\n",
       "\n",
       "    .dataframe tbody tr th {\n",
       "        vertical-align: top;\n",
       "    }\n",
       "\n",
       "    .dataframe thead th {\n",
       "        text-align: right;\n",
       "    }\n",
       "</style>\n",
       "<table border=\"1\" class=\"dataframe\">\n",
       "  <thead>\n",
       "    <tr style=\"text-align: right;\">\n",
       "      <th></th>\n",
       "      <th>mean</th>\n",
       "      <th>count</th>\n",
       "    </tr>\n",
       "    <tr>\n",
       "      <th>user_id</th>\n",
       "      <th></th>\n",
       "      <th></th>\n",
       "    </tr>\n",
       "  </thead>\n",
       "  <tbody>\n",
       "    <tr>\n",
       "      <th>405</th>\n",
       "      <td>1.834464</td>\n",
       "      <td>737</td>\n",
       "    </tr>\n",
       "    <tr>\n",
       "      <th>655</th>\n",
       "      <td>2.908029</td>\n",
       "      <td>685</td>\n",
       "    </tr>\n",
       "    <tr>\n",
       "      <th>13</th>\n",
       "      <td>3.097484</td>\n",
       "      <td>636</td>\n",
       "    </tr>\n",
       "    <tr>\n",
       "      <th>450</th>\n",
       "      <td>3.864815</td>\n",
       "      <td>540</td>\n",
       "    </tr>\n",
       "    <tr>\n",
       "      <th>276</th>\n",
       "      <td>3.465251</td>\n",
       "      <td>518</td>\n",
       "    </tr>\n",
       "    <tr>\n",
       "      <th>...</th>\n",
       "      <td>...</td>\n",
       "      <td>...</td>\n",
       "    </tr>\n",
       "    <tr>\n",
       "      <th>685</th>\n",
       "      <td>2.050000</td>\n",
       "      <td>20</td>\n",
       "    </tr>\n",
       "    <tr>\n",
       "      <th>475</th>\n",
       "      <td>3.600000</td>\n",
       "      <td>20</td>\n",
       "    </tr>\n",
       "    <tr>\n",
       "      <th>36</th>\n",
       "      <td>3.800000</td>\n",
       "      <td>20</td>\n",
       "    </tr>\n",
       "    <tr>\n",
       "      <th>732</th>\n",
       "      <td>3.700000</td>\n",
       "      <td>20</td>\n",
       "    </tr>\n",
       "    <tr>\n",
       "      <th>596</th>\n",
       "      <td>3.600000</td>\n",
       "      <td>20</td>\n",
       "    </tr>\n",
       "  </tbody>\n",
       "</table>\n",
       "<p>943 rows × 2 columns</p>\n",
       "</div>"
      ],
      "text/plain": [
       "             mean  count\n",
       "user_id                 \n",
       "405      1.834464    737\n",
       "655      2.908029    685\n",
       "13       3.097484    636\n",
       "450      3.864815    540\n",
       "276      3.465251    518\n",
       "...           ...    ...\n",
       "685      2.050000     20\n",
       "475      3.600000     20\n",
       "36       3.800000     20\n",
       "732      3.700000     20\n",
       "596      3.600000     20\n",
       "\n",
       "[943 rows x 2 columns]"
      ]
     },
     "execution_count": 11,
     "metadata": {},
     "output_type": "execute_result"
    }
   ],
   "source": [
    "rating_agg = ratings.groupby('user_id')['rating'].agg({'count','mean'}).sort_values(by='count', ascending=False)\n",
    "rating_agg"
   ]
  },
  {
   "cell_type": "markdown",
   "metadata": {
    "id": "IOH5jtpUokKn"
   },
   "source": [
    "## Utilice las siguientes celdas para encontrar respuesta a las siguientes preguntas\n",
    "\n",
    "¿Cómo es la distribución del número de ratings por usuario?\n",
    "\n",
    "¿Cómo es la distribución del promedio de calificación por usuario?\n"
   ]
  },
  {
   "cell_type": "code",
   "execution_count": 12,
   "metadata": {},
   "outputs": [
    {
     "data": {
      "text/html": [
       "<div>\n",
       "<style scoped>\n",
       "    .dataframe tbody tr th:only-of-type {\n",
       "        vertical-align: middle;\n",
       "    }\n",
       "\n",
       "    .dataframe tbody tr th {\n",
       "        vertical-align: top;\n",
       "    }\n",
       "\n",
       "    .dataframe thead th {\n",
       "        text-align: right;\n",
       "    }\n",
       "</style>\n",
       "<table border=\"1\" class=\"dataframe\">\n",
       "  <thead>\n",
       "    <tr style=\"text-align: right;\">\n",
       "      <th></th>\n",
       "      <th>mean</th>\n",
       "      <th>count</th>\n",
       "    </tr>\n",
       "  </thead>\n",
       "  <tbody>\n",
       "    <tr>\n",
       "      <th>count</th>\n",
       "      <td>943.000000</td>\n",
       "      <td>943.000000</td>\n",
       "    </tr>\n",
       "    <tr>\n",
       "      <th>mean</th>\n",
       "      <td>3.588191</td>\n",
       "      <td>106.044539</td>\n",
       "    </tr>\n",
       "    <tr>\n",
       "      <th>std</th>\n",
       "      <td>0.445233</td>\n",
       "      <td>100.931743</td>\n",
       "    </tr>\n",
       "    <tr>\n",
       "      <th>min</th>\n",
       "      <td>1.491954</td>\n",
       "      <td>20.000000</td>\n",
       "    </tr>\n",
       "    <tr>\n",
       "      <th>25%</th>\n",
       "      <td>3.323054</td>\n",
       "      <td>33.000000</td>\n",
       "    </tr>\n",
       "    <tr>\n",
       "      <th>50%</th>\n",
       "      <td>3.620690</td>\n",
       "      <td>65.000000</td>\n",
       "    </tr>\n",
       "    <tr>\n",
       "      <th>75%</th>\n",
       "      <td>3.869565</td>\n",
       "      <td>148.000000</td>\n",
       "    </tr>\n",
       "    <tr>\n",
       "      <th>max</th>\n",
       "      <td>4.869565</td>\n",
       "      <td>737.000000</td>\n",
       "    </tr>\n",
       "  </tbody>\n",
       "</table>\n",
       "</div>"
      ],
      "text/plain": [
       "             mean       count\n",
       "count  943.000000  943.000000\n",
       "mean     3.588191  106.044539\n",
       "std      0.445233  100.931743\n",
       "min      1.491954   20.000000\n",
       "25%      3.323054   33.000000\n",
       "50%      3.620690   65.000000\n",
       "75%      3.869565  148.000000\n",
       "max      4.869565  737.000000"
      ]
     },
     "execution_count": 12,
     "metadata": {},
     "output_type": "execute_result"
    }
   ],
   "source": [
    "rating_agg.describe()"
   ]
  },
  {
   "cell_type": "code",
   "execution_count": 13,
   "metadata": {},
   "outputs": [
    {
     "name": "stderr",
     "output_type": "stream",
     "text": [
      "C:\\Users\\jagv1\\anaconda3\\lib\\site-packages\\seaborn\\distributions.py:2551: FutureWarning: `distplot` is a deprecated function and will be removed in a future version. Please adapt your code to use either `displot` (a figure-level function with similar flexibility) or `histplot` (an axes-level function for histograms).\n",
      "  warnings.warn(msg, FutureWarning)\n"
     ]
    },
    {
     "data": {
      "text/plain": [
       "<AxesSubplot:xlabel='count', ylabel='Density'>"
      ]
     },
     "execution_count": 13,
     "metadata": {},
     "output_type": "execute_result"
    },
    {
     "data": {
      "image/png": "[encoded data removed]",
      "text/plain": [
       "<Figure size 432x288 with 1 Axes>"
      ]
     },
     "metadata": {
      "needs_background": "light"
     },
     "output_type": "display_data"
    }
   ],
   "source": [
    "sns.distplot(a=rating_agg['count'])"
   ]
  },
  {
   "cell_type": "code",
   "execution_count": 14,
   "metadata": {
    "id": "9PA43szmpTiQ"
   },
   "outputs": [
    {
     "name": "stderr",
     "output_type": "stream",
     "text": [
      "C:\\Users\\jagv1\\anaconda3\\lib\\site-packages\\seaborn\\distributions.py:2551: FutureWarning: `distplot` is a deprecated function and will be removed in a future version. Please adapt your code to use either `displot` (a figure-level function with similar flexibility) or `histplot` (an axes-level function for histograms).\n",
      "  warnings.warn(msg, FutureWarning)\n"
     ]
    },
    {
     "data": {
      "text/plain": [
       "<AxesSubplot:xlabel='mean', ylabel='Density'>"
      ]
     },
     "execution_count": 14,
     "metadata": {},
     "output_type": "execute_result"
    },
    {
     "data": {
      "image/png": "[encoded data removed]",
      "text/plain": [
       "<Figure size 432x288 with 1 Axes>"
      ]
     },
     "metadata": {
      "needs_background": "light"
     },
     "output_type": "display_data"
    }
   ],
   "source": [
    "sns.distplot(a=rating_agg['mean'])"
   ]
  },
  {
   "cell_type": "markdown",
   "metadata": {
    "id": "Sb2m2qv9sqZt"
   },
   "source": [
    "## En la siguiente celda se esta calculando el número de ratings por items, el promedio de sus calificaciones y la varianza de sus calificaciones. "
   ]
  },
  {
   "cell_type": "code",
   "execution_count": 15,
   "metadata": {
    "id": "xXZw4Iy2aARs"
   },
   "outputs": [
    {
     "data": {
      "text/html": [
       "<div>\n",
       "<style scoped>\n",
       "    .dataframe tbody tr th:only-of-type {\n",
       "        vertical-align: middle;\n",
       "    }\n",
       "\n",
       "    .dataframe tbody tr th {\n",
       "        vertical-align: top;\n",
       "    }\n",
       "\n",
       "    .dataframe thead th {\n",
       "        text-align: right;\n",
       "    }\n",
       "</style>\n",
       "<table border=\"1\" class=\"dataframe\">\n",
       "  <thead>\n",
       "    <tr style=\"text-align: right;\">\n",
       "      <th></th>\n",
       "      <th>var</th>\n",
       "      <th>mean</th>\n",
       "      <th>count</th>\n",
       "      <th>movie title</th>\n",
       "    </tr>\n",
       "    <tr>\n",
       "      <th>item_id</th>\n",
       "      <th></th>\n",
       "      <th></th>\n",
       "      <th></th>\n",
       "      <th></th>\n",
       "    </tr>\n",
       "  </thead>\n",
       "  <tbody>\n",
       "    <tr>\n",
       "      <th>1</th>\n",
       "      <td>0.860992</td>\n",
       "      <td>3.878319</td>\n",
       "      <td>452</td>\n",
       "      <td>Toy Story (1995)</td>\n",
       "    </tr>\n",
       "    <tr>\n",
       "      <th>2</th>\n",
       "      <td>0.934116</td>\n",
       "      <td>3.206107</td>\n",
       "      <td>131</td>\n",
       "      <td>GoldenEye (1995)</td>\n",
       "    </tr>\n",
       "    <tr>\n",
       "      <th>3</th>\n",
       "      <td>1.470787</td>\n",
       "      <td>3.033333</td>\n",
       "      <td>90</td>\n",
       "      <td>Four Rooms (1995)</td>\n",
       "    </tr>\n",
       "    <tr>\n",
       "      <th>4</th>\n",
       "      <td>0.931358</td>\n",
       "      <td>3.550239</td>\n",
       "      <td>209</td>\n",
       "      <td>Get Shorty (1995)</td>\n",
       "    </tr>\n",
       "    <tr>\n",
       "      <th>5</th>\n",
       "      <td>0.895759</td>\n",
       "      <td>3.302326</td>\n",
       "      <td>86</td>\n",
       "      <td>Copycat (1995)</td>\n",
       "    </tr>\n",
       "    <tr>\n",
       "      <th>...</th>\n",
       "      <td>...</td>\n",
       "      <td>...</td>\n",
       "      <td>...</td>\n",
       "      <td>...</td>\n",
       "    </tr>\n",
       "    <tr>\n",
       "      <th>1678</th>\n",
       "      <td>NaN</td>\n",
       "      <td>1.000000</td>\n",
       "      <td>1</td>\n",
       "      <td>Mat' i syn (1997)</td>\n",
       "    </tr>\n",
       "    <tr>\n",
       "      <th>1679</th>\n",
       "      <td>NaN</td>\n",
       "      <td>3.000000</td>\n",
       "      <td>1</td>\n",
       "      <td>B. Monkey (1998)</td>\n",
       "    </tr>\n",
       "    <tr>\n",
       "      <th>1680</th>\n",
       "      <td>NaN</td>\n",
       "      <td>2.000000</td>\n",
       "      <td>1</td>\n",
       "      <td>Sliding Doors (1998)</td>\n",
       "    </tr>\n",
       "    <tr>\n",
       "      <th>1681</th>\n",
       "      <td>NaN</td>\n",
       "      <td>3.000000</td>\n",
       "      <td>1</td>\n",
       "      <td>You So Crazy (1994)</td>\n",
       "    </tr>\n",
       "    <tr>\n",
       "      <th>1682</th>\n",
       "      <td>NaN</td>\n",
       "      <td>3.000000</td>\n",
       "      <td>1</td>\n",
       "      <td>Scream of Stone (Schrei aus Stein) (1991)</td>\n",
       "    </tr>\n",
       "  </tbody>\n",
       "</table>\n",
       "<p>1682 rows × 4 columns</p>\n",
       "</div>"
      ],
      "text/plain": [
       "              var      mean  count                                movie title\n",
       "item_id                                                                      \n",
       "1        0.860992  3.878319    452                           Toy Story (1995)\n",
       "2        0.934116  3.206107    131                           GoldenEye (1995)\n",
       "3        1.470787  3.033333     90                          Four Rooms (1995)\n",
       "4        0.931358  3.550239    209                          Get Shorty (1995)\n",
       "5        0.895759  3.302326     86                             Copycat (1995)\n",
       "...           ...       ...    ...                                        ...\n",
       "1678          NaN  1.000000      1                          Mat' i syn (1997)\n",
       "1679          NaN  3.000000      1                           B. Monkey (1998)\n",
       "1680          NaN  2.000000      1                       Sliding Doors (1998)\n",
       "1681          NaN  3.000000      1                        You So Crazy (1994)\n",
       "1682          NaN  3.000000      1  Scream of Stone (Schrei aus Stein) (1991)\n",
       "\n",
       "[1682 rows x 4 columns]"
      ]
     },
     "execution_count": 15,
     "metadata": {},
     "output_type": "execute_result"
    }
   ],
   "source": [
    "item_ratings_agg = ratings.groupby('item_id')['rating'].agg({'count','mean','var'}).join(items['movie title'], how='left')\n",
    "item_ratings_agg"
   ]
  },
  {
   "cell_type": "markdown",
   "metadata": {
    "id": "mLsd_rohxMhc"
   },
   "source": [
    "## Utilice las siguientes celdas para encontrar la respuesta a las siguientes preguntas\n",
    "\n",
    "¿Cuáles son los items con más calificaciones?  \n",
    "\n",
    "¿Se puede observar el fenomeno de cola larga en este dataset?, evidencielo por medio de un gráfico\n",
    "\n",
    "\n"
   ]
  },
  {
   "cell_type": "code",
   "execution_count": 16,
   "metadata": {
    "id": "TP264UnaCzm5"
   },
   "outputs": [
    {
     "data": {
      "text/plain": [
       "<AxesSubplot:xlabel='item_id', ylabel='count'>"
      ]
     },
     "execution_count": 16,
     "metadata": {},
     "output_type": "execute_result"
    },
    {
     "data": {
      "image/png": "[encoded data removed]",
      "text/plain": [
       "<Figure size 3456x576 with 1 Axes>"
      ]
     },
     "metadata": {
      "needs_background": "light"
     },
     "output_type": "display_data"
    }
   ],
   "source": [
    "sorted_temp = item_ratings_agg.sort_values(['count'], ascending=False).reset_index()\n",
    "sorted_temp.reset_index(drop=True)\n",
    "sorted_count = sorted_temp[['item_id', 'count']]\n",
    "plt.figure(figsize=(48,8))\n",
    "ax = sns.barplot(x='item_id', y='count', data= sorted_count, order=sorted_count['item_id'])\n",
    "ax"
   ]
  },
  {
   "cell_type": "code",
   "execution_count": 17,
   "metadata": {},
   "outputs": [
    {
     "data": {
      "text/html": [
       "<div>\n",
       "<style scoped>\n",
       "    .dataframe tbody tr th:only-of-type {\n",
       "        vertical-align: middle;\n",
       "    }\n",
       "\n",
       "    .dataframe tbody tr th {\n",
       "        vertical-align: top;\n",
       "    }\n",
       "\n",
       "    .dataframe thead th {\n",
       "        text-align: right;\n",
       "    }\n",
       "</style>\n",
       "<table border=\"1\" class=\"dataframe\">\n",
       "  <thead>\n",
       "    <tr style=\"text-align: right;\">\n",
       "      <th></th>\n",
       "      <th>var</th>\n",
       "      <th>mean</th>\n",
       "      <th>count</th>\n",
       "      <th>movie title</th>\n",
       "    </tr>\n",
       "    <tr>\n",
       "      <th>item_id</th>\n",
       "      <th></th>\n",
       "      <th></th>\n",
       "      <th></th>\n",
       "      <th></th>\n",
       "    </tr>\n",
       "  </thead>\n",
       "  <tbody>\n",
       "    <tr>\n",
       "      <th>50</th>\n",
       "      <td>0.776762</td>\n",
       "      <td>4.358491</td>\n",
       "      <td>583</td>\n",
       "      <td>Star Wars (1977)</td>\n",
       "    </tr>\n",
       "    <tr>\n",
       "      <th>258</th>\n",
       "      <td>0.988885</td>\n",
       "      <td>3.803536</td>\n",
       "      <td>509</td>\n",
       "      <td>Contact (1997)</td>\n",
       "    </tr>\n",
       "    <tr>\n",
       "      <th>100</th>\n",
       "      <td>0.952100</td>\n",
       "      <td>4.155512</td>\n",
       "      <td>508</td>\n",
       "      <td>Fargo (1996)</td>\n",
       "    </tr>\n",
       "    <tr>\n",
       "      <th>181</th>\n",
       "      <td>0.853693</td>\n",
       "      <td>4.007890</td>\n",
       "      <td>507</td>\n",
       "      <td>Return of the Jedi (1983)</td>\n",
       "    </tr>\n",
       "    <tr>\n",
       "      <th>294</th>\n",
       "      <td>1.206799</td>\n",
       "      <td>3.156701</td>\n",
       "      <td>485</td>\n",
       "      <td>Liar Liar (1997)</td>\n",
       "    </tr>\n",
       "    <tr>\n",
       "      <th>286</th>\n",
       "      <td>1.367498</td>\n",
       "      <td>3.656965</td>\n",
       "      <td>481</td>\n",
       "      <td>English Patient, The (1996)</td>\n",
       "    </tr>\n",
       "    <tr>\n",
       "      <th>288</th>\n",
       "      <td>1.240796</td>\n",
       "      <td>3.441423</td>\n",
       "      <td>478</td>\n",
       "      <td>Scream (1996)</td>\n",
       "    </tr>\n",
       "    <tr>\n",
       "      <th>1</th>\n",
       "      <td>0.860992</td>\n",
       "      <td>3.878319</td>\n",
       "      <td>452</td>\n",
       "      <td>Toy Story (1995)</td>\n",
       "    </tr>\n",
       "    <tr>\n",
       "      <th>300</th>\n",
       "      <td>0.996147</td>\n",
       "      <td>3.631090</td>\n",
       "      <td>431</td>\n",
       "      <td>Air Force One (1997)</td>\n",
       "    </tr>\n",
       "    <tr>\n",
       "      <th>121</th>\n",
       "      <td>1.246759</td>\n",
       "      <td>3.438228</td>\n",
       "      <td>429</td>\n",
       "      <td>Independence Day (ID4) (1996)</td>\n",
       "    </tr>\n",
       "  </tbody>\n",
       "</table>\n",
       "</div>"
      ],
      "text/plain": [
       "              var      mean  count                    movie title\n",
       "item_id                                                          \n",
       "50       0.776762  4.358491    583               Star Wars (1977)\n",
       "258      0.988885  3.803536    509                 Contact (1997)\n",
       "100      0.952100  4.155512    508                   Fargo (1996)\n",
       "181      0.853693  4.007890    507      Return of the Jedi (1983)\n",
       "294      1.206799  3.156701    485               Liar Liar (1997)\n",
       "286      1.367498  3.656965    481    English Patient, The (1996)\n",
       "288      1.240796  3.441423    478                  Scream (1996)\n",
       "1        0.860992  3.878319    452               Toy Story (1995)\n",
       "300      0.996147  3.631090    431           Air Force One (1997)\n",
       "121      1.246759  3.438228    429  Independence Day (ID4) (1996)"
      ]
     },
     "execution_count": 17,
     "metadata": {},
     "output_type": "execute_result"
    }
   ],
   "source": [
    "item_ratings_agg.sort_values(ascending=False, by=\"count\")[:10]"
   ]
  },
  {
   "cell_type": "markdown",
   "metadata": {
    "id": "kG9eggK7cQIc"
   },
   "source": [
    "## Creación de listas de recomendación no personalizadas\n",
    "\n",
    "Genere inicialmente una lista de recomendación de tamaño 10 no personalizada con los items con mejor promedio, en teoría estos serían los mejores items del dataset y una buena lista inicial con los elementos más aclamados por los usuarios del sistema\n",
    "\n",
    "¿Qué problemas tiene generar una lista no personalizada solamente con el promedio?\n",
    "\n",
    "¿Es posible generar una mejor lista de recomendación teniendo en cuenta que tanto el número de ratings del item como su promedio? \n",
    "\n",
    "Cree una lista top 10 con los mejores items globales siguiendo la estrategia seleccionada\n",
    "\n",
    "Ver: \n",
    "\n",
    "http://www.evanmiller.org/how-not-to-sort-by-average-rating.html\n",
    "\n",
    "https://es.wikipedia.org/wiki/Intervalo_de_confianza\n"
   ]
  },
  {
   "cell_type": "code",
   "execution_count": 18,
   "metadata": {
    "id": "4XMG1LkAdXAv",
    "scrolled": true
   },
   "outputs": [
    {
     "data": {
      "text/html": [
       "<div>\n",
       "<style scoped>\n",
       "    .dataframe tbody tr th:only-of-type {\n",
       "        vertical-align: middle;\n",
       "    }\n",
       "\n",
       "    .dataframe tbody tr th {\n",
       "        vertical-align: top;\n",
       "    }\n",
       "\n",
       "    .dataframe thead th {\n",
       "        text-align: right;\n",
       "    }\n",
       "</style>\n",
       "<table border=\"1\" class=\"dataframe\">\n",
       "  <thead>\n",
       "    <tr style=\"text-align: right;\">\n",
       "      <th></th>\n",
       "      <th>var</th>\n",
       "      <th>mean</th>\n",
       "      <th>count</th>\n",
       "      <th>movie title</th>\n",
       "    </tr>\n",
       "    <tr>\n",
       "      <th>item_id</th>\n",
       "      <th></th>\n",
       "      <th></th>\n",
       "      <th></th>\n",
       "      <th></th>\n",
       "    </tr>\n",
       "  </thead>\n",
       "  <tbody>\n",
       "    <tr>\n",
       "      <th>814</th>\n",
       "      <td>NaN</td>\n",
       "      <td>5.0</td>\n",
       "      <td>1</td>\n",
       "      <td>Great Day in Harlem, A (1994)</td>\n",
       "    </tr>\n",
       "    <tr>\n",
       "      <th>1599</th>\n",
       "      <td>NaN</td>\n",
       "      <td>5.0</td>\n",
       "      <td>1</td>\n",
       "      <td>Someone Else's America (1995)</td>\n",
       "    </tr>\n",
       "    <tr>\n",
       "      <th>1201</th>\n",
       "      <td>NaN</td>\n",
       "      <td>5.0</td>\n",
       "      <td>1</td>\n",
       "      <td>Marlene Dietrich: Shadow and Light (1996)</td>\n",
       "    </tr>\n",
       "    <tr>\n",
       "      <th>1122</th>\n",
       "      <td>NaN</td>\n",
       "      <td>5.0</td>\n",
       "      <td>1</td>\n",
       "      <td>They Made Me a Criminal (1939)</td>\n",
       "    </tr>\n",
       "    <tr>\n",
       "      <th>1653</th>\n",
       "      <td>NaN</td>\n",
       "      <td>5.0</td>\n",
       "      <td>1</td>\n",
       "      <td>Entertaining Angels: The Dorothy Day Story (1996)</td>\n",
       "    </tr>\n",
       "    <tr>\n",
       "      <th>1293</th>\n",
       "      <td>0.0</td>\n",
       "      <td>5.0</td>\n",
       "      <td>3</td>\n",
       "      <td>Star Kid (1997)</td>\n",
       "    </tr>\n",
       "    <tr>\n",
       "      <th>1500</th>\n",
       "      <td>0.0</td>\n",
       "      <td>5.0</td>\n",
       "      <td>2</td>\n",
       "      <td>Santa with Muscles (1996)</td>\n",
       "    </tr>\n",
       "    <tr>\n",
       "      <th>1189</th>\n",
       "      <td>0.0</td>\n",
       "      <td>5.0</td>\n",
       "      <td>3</td>\n",
       "      <td>Prefontaine (1997)</td>\n",
       "    </tr>\n",
       "    <tr>\n",
       "      <th>1536</th>\n",
       "      <td>NaN</td>\n",
       "      <td>5.0</td>\n",
       "      <td>1</td>\n",
       "      <td>Aiqing wansui (1994)</td>\n",
       "    </tr>\n",
       "    <tr>\n",
       "      <th>1467</th>\n",
       "      <td>0.0</td>\n",
       "      <td>5.0</td>\n",
       "      <td>2</td>\n",
       "      <td>Saint of Fort Washington, The (1993)</td>\n",
       "    </tr>\n",
       "  </tbody>\n",
       "</table>\n",
       "</div>"
      ],
      "text/plain": [
       "         var  mean  count                                        movie title\n",
       "item_id                                                                     \n",
       "814      NaN   5.0      1                      Great Day in Harlem, A (1994)\n",
       "1599     NaN   5.0      1                      Someone Else's America (1995)\n",
       "1201     NaN   5.0      1         Marlene Dietrich: Shadow and Light (1996) \n",
       "1122     NaN   5.0      1                     They Made Me a Criminal (1939)\n",
       "1653     NaN   5.0      1  Entertaining Angels: The Dorothy Day Story (1996)\n",
       "1293     0.0   5.0      3                                    Star Kid (1997)\n",
       "1500     0.0   5.0      2                          Santa with Muscles (1996)\n",
       "1189     0.0   5.0      3                                 Prefontaine (1997)\n",
       "1536     NaN   5.0      1                               Aiqing wansui (1994)\n",
       "1467     0.0   5.0      2               Saint of Fort Washington, The (1993)"
      ]
     },
     "execution_count": 18,
     "metadata": {},
     "output_type": "execute_result"
    }
   ],
   "source": [
    "item_ratings_agg.sort_values(ascending=False, by=\"mean\")[:10]"
   ]
  },
  {
   "cell_type": "code",
   "execution_count": 19,
   "metadata": {},
   "outputs": [
    {
     "data": {
      "text/html": [
       "<div>\n",
       "<style scoped>\n",
       "    .dataframe tbody tr th:only-of-type {\n",
       "        vertical-align: middle;\n",
       "    }\n",
       "\n",
       "    .dataframe tbody tr th {\n",
       "        vertical-align: top;\n",
       "    }\n",
       "\n",
       "    .dataframe thead th {\n",
       "        text-align: right;\n",
       "    }\n",
       "</style>\n",
       "<table border=\"1\" class=\"dataframe\">\n",
       "  <thead>\n",
       "    <tr style=\"text-align: right;\">\n",
       "      <th></th>\n",
       "      <th>var</th>\n",
       "      <th>mean</th>\n",
       "      <th>count</th>\n",
       "      <th>movie title</th>\n",
       "      <th>IC n&gt;=2</th>\n",
       "      <th>IC n&gt;=3</th>\n",
       "      <th>IC n&gt;=5</th>\n",
       "      <th>IC n&gt;=10</th>\n",
       "      <th>IC n&gt;=15</th>\n",
       "      <th>IC n&gt;=20</th>\n",
       "    </tr>\n",
       "    <tr>\n",
       "      <th>item_id</th>\n",
       "      <th></th>\n",
       "      <th></th>\n",
       "      <th></th>\n",
       "      <th></th>\n",
       "      <th></th>\n",
       "      <th></th>\n",
       "      <th></th>\n",
       "      <th></th>\n",
       "      <th></th>\n",
       "      <th></th>\n",
       "    </tr>\n",
       "  </thead>\n",
       "  <tbody>\n",
       "    <tr>\n",
       "      <th>318</th>\n",
       "      <td>0.687422</td>\n",
       "      <td>4.466443</td>\n",
       "      <td>298</td>\n",
       "      <td>Schindler's List (1993)</td>\n",
       "      <td>4.372306</td>\n",
       "      <td>4.372306</td>\n",
       "      <td>4.372306</td>\n",
       "      <td>4.372306</td>\n",
       "      <td>4.372306</td>\n",
       "      <td>4.372306</td>\n",
       "    </tr>\n",
       "    <tr>\n",
       "      <th>483</th>\n",
       "      <td>0.530150</td>\n",
       "      <td>4.456790</td>\n",
       "      <td>243</td>\n",
       "      <td>Casablanca (1942)</td>\n",
       "      <td>4.365241</td>\n",
       "      <td>4.365241</td>\n",
       "      <td>4.365241</td>\n",
       "      <td>4.365241</td>\n",
       "      <td>4.365241</td>\n",
       "      <td>4.365241</td>\n",
       "    </tr>\n",
       "    <tr>\n",
       "      <th>64</th>\n",
       "      <td>0.588302</td>\n",
       "      <td>4.445230</td>\n",
       "      <td>283</td>\n",
       "      <td>Shawshank Redemption, The (1994)</td>\n",
       "      <td>4.355866</td>\n",
       "      <td>4.355866</td>\n",
       "      <td>4.355866</td>\n",
       "      <td>4.355866</td>\n",
       "      <td>4.355866</td>\n",
       "      <td>4.355866</td>\n",
       "    </tr>\n",
       "    <tr>\n",
       "      <th>408</th>\n",
       "      <td>0.594514</td>\n",
       "      <td>4.491071</td>\n",
       "      <td>112</td>\n",
       "      <td>Close Shave, A (1995)</td>\n",
       "      <td>4.348271</td>\n",
       "      <td>4.348271</td>\n",
       "      <td>4.348271</td>\n",
       "      <td>4.348271</td>\n",
       "      <td>4.348271</td>\n",
       "      <td>4.348271</td>\n",
       "    </tr>\n",
       "    <tr>\n",
       "      <th>169</th>\n",
       "      <td>0.678328</td>\n",
       "      <td>4.466102</td>\n",
       "      <td>118</td>\n",
       "      <td>Wrong Trousers, The (1993)</td>\n",
       "      <td>4.317496</td>\n",
       "      <td>4.317496</td>\n",
       "      <td>4.317496</td>\n",
       "      <td>4.317496</td>\n",
       "      <td>4.317496</td>\n",
       "      <td>4.317496</td>\n",
       "    </tr>\n",
       "    <tr>\n",
       "      <th>603</th>\n",
       "      <td>0.507729</td>\n",
       "      <td>4.387560</td>\n",
       "      <td>209</td>\n",
       "      <td>Rear Window (1954)</td>\n",
       "      <td>4.290955</td>\n",
       "      <td>4.290955</td>\n",
       "      <td>4.290955</td>\n",
       "      <td>4.290955</td>\n",
       "      <td>4.290955</td>\n",
       "      <td>4.290955</td>\n",
       "    </tr>\n",
       "    <tr>\n",
       "      <th>50</th>\n",
       "      <td>0.776762</td>\n",
       "      <td>4.358491</td>\n",
       "      <td>583</td>\n",
       "      <td>Star Wars (1977)</td>\n",
       "      <td>4.286948</td>\n",
       "      <td>4.286948</td>\n",
       "      <td>4.286948</td>\n",
       "      <td>4.286948</td>\n",
       "      <td>4.286948</td>\n",
       "      <td>4.286948</td>\n",
       "    </tr>\n",
       "    <tr>\n",
       "      <th>12</th>\n",
       "      <td>0.681451</td>\n",
       "      <td>4.385768</td>\n",
       "      <td>267</td>\n",
       "      <td>Usual Suspects, The (1995)</td>\n",
       "      <td>4.286749</td>\n",
       "      <td>4.286749</td>\n",
       "      <td>4.286749</td>\n",
       "      <td>4.286749</td>\n",
       "      <td>4.286749</td>\n",
       "      <td>4.286749</td>\n",
       "    </tr>\n",
       "    <tr>\n",
       "      <th>1449</th>\n",
       "      <td>0.267857</td>\n",
       "      <td>4.625000</td>\n",
       "      <td>8</td>\n",
       "      <td>Pather Panchali (1955)</td>\n",
       "      <td>4.266357</td>\n",
       "      <td>4.266357</td>\n",
       "      <td>4.266357</td>\n",
       "      <td>0.000000</td>\n",
       "      <td>0.000000</td>\n",
       "      <td>0.000000</td>\n",
       "    </tr>\n",
       "    <tr>\n",
       "      <th>114</th>\n",
       "      <td>0.584351</td>\n",
       "      <td>4.447761</td>\n",
       "      <td>67</td>\n",
       "      <td>Wallace &amp; Gromit: The Best of Aardman Animatio...</td>\n",
       "      <td>4.264717</td>\n",
       "      <td>4.264717</td>\n",
       "      <td>4.264717</td>\n",
       "      <td>4.264717</td>\n",
       "      <td>4.264717</td>\n",
       "      <td>4.264717</td>\n",
       "    </tr>\n",
       "  </tbody>\n",
       "</table>\n",
       "</div>"
      ],
      "text/plain": [
       "              var      mean  count  \\\n",
       "item_id                              \n",
       "318      0.687422  4.466443    298   \n",
       "483      0.530150  4.456790    243   \n",
       "64       0.588302  4.445230    283   \n",
       "408      0.594514  4.491071    112   \n",
       "169      0.678328  4.466102    118   \n",
       "603      0.507729  4.387560    209   \n",
       "50       0.776762  4.358491    583   \n",
       "12       0.681451  4.385768    267   \n",
       "1449     0.267857  4.625000      8   \n",
       "114      0.584351  4.447761     67   \n",
       "\n",
       "                                               movie title   IC n>=2  \\\n",
       "item_id                                                                \n",
       "318                                Schindler's List (1993)  4.372306   \n",
       "483                                      Casablanca (1942)  4.365241   \n",
       "64                        Shawshank Redemption, The (1994)  4.355866   \n",
       "408                                  Close Shave, A (1995)  4.348271   \n",
       "169                             Wrong Trousers, The (1993)  4.317496   \n",
       "603                                     Rear Window (1954)  4.290955   \n",
       "50                                        Star Wars (1977)  4.286948   \n",
       "12                              Usual Suspects, The (1995)  4.286749   \n",
       "1449                                Pather Panchali (1955)  4.266357   \n",
       "114      Wallace & Gromit: The Best of Aardman Animatio...  4.264717   \n",
       "\n",
       "          IC n>=3   IC n>=5  IC n>=10  IC n>=15  IC n>=20  \n",
       "item_id                                                    \n",
       "318      4.372306  4.372306  4.372306  4.372306  4.372306  \n",
       "483      4.365241  4.365241  4.365241  4.365241  4.365241  \n",
       "64       4.355866  4.355866  4.355866  4.355866  4.355866  \n",
       "408      4.348271  4.348271  4.348271  4.348271  4.348271  \n",
       "169      4.317496  4.317496  4.317496  4.317496  4.317496  \n",
       "603      4.290955  4.290955  4.290955  4.290955  4.290955  \n",
       "50       4.286948  4.286948  4.286948  4.286948  4.286948  \n",
       "12       4.286749  4.286749  4.286749  4.286749  4.286749  \n",
       "1449     4.266357  4.266357  0.000000  0.000000  0.000000  \n",
       "114      4.264717  4.264717  4.264717  4.264717  4.264717  "
      ]
     },
     "execution_count": 19,
     "metadata": {},
     "output_type": "execute_result"
    }
   ],
   "source": [
    "for n in [2,3,5,10,15,20]:\n",
    "    item_ratings_agg[f'IC n>={n}'] = np.where(((item_ratings_agg['count'] >= n)& ~np.isnan(item_ratings_agg['var'])), item_ratings_agg['mean'] - (1.96*np.sqrt(item_ratings_agg['var'])/np.sqrt(item_ratings_agg['count'])), 0)\n",
    "\n",
    "item_ratings_agg.sort_values(ascending=False, by=f'IC n>=5')[:10]"
   ]
  },
  {
   "cell_type": "markdown",
   "metadata": {
    "id": "c7BO4guxySk3"
   },
   "source": [
    "# Creación del dataset de entrenamiento y prueba\n",
    "\n",
    "El próximo paso es cargar los datos a surprise, para esto vamos a inicializar un modelo de datos de surprise con la información de los ratings cargados en el dataframe"
   ]
  },
  {
   "cell_type": "markdown",
   "metadata": {
    "id": "1PE9yuetbxnQ"
   },
   "source": []
  },
  {
   "cell_type": "code",
   "execution_count": 20,
   "metadata": {
    "id": "xzF3iMfVzWiz"
   },
   "outputs": [],
   "source": [
    "reader = Reader( rating_scale = ( 1, 5 ) )\n",
    "#Se crea el dataset a partir del dataframe\n",
    "surprise_dataset = Dataset.load_from_df( ratings[ [ 'user_id', 'item_id', 'rating' ] ], reader )"
   ]
  },
  {
   "cell_type": "markdown",
   "metadata": {
    "id": "aBSHMZu-IaDE"
   },
   "source": [
    "Se divide el dataset en entrenamiento y test. El dataset de entrenamiento será presentado al algoritmo de recomendación y el dataset de test nos servirá para medir qué tan buenas fueron las predicciones del sistema de recomendación. El conjunto de test generado es una lista con los ratings de prueba"
   ]
  },
  {
   "cell_type": "code",
   "execution_count": 21,
   "metadata": {
    "id": "wVCXEv2zHDN7"
   },
   "outputs": [],
   "source": [
    "train_set, test_set=  train_test_split(surprise_dataset, test_size=.2)"
   ]
  },
  {
   "cell_type": "code",
   "execution_count": 22,
   "metadata": {
    "id": "z3NBak6JZWgP"
   },
   "outputs": [
    {
     "data": {
      "text/plain": [
       "80000"
      ]
     },
     "execution_count": 22,
     "metadata": {},
     "output_type": "execute_result"
    }
   ],
   "source": [
    "train_set.n_ratings"
   ]
  },
  {
   "cell_type": "code",
   "execution_count": 23,
   "metadata": {
    "id": "bUyMSnUEdOOT"
   },
   "outputs": [
    {
     "data": {
      "text/plain": [
       "20000"
      ]
     },
     "execution_count": 23,
     "metadata": {},
     "output_type": "execute_result"
    }
   ],
   "source": [
    "len(test_set)"
   ]
  },
  {
   "cell_type": "code",
   "execution_count": 24,
   "metadata": {
    "id": "HDamSIDVZabW"
   },
   "outputs": [
    {
     "data": {
      "text/plain": [
       "(154, 302, 4.0)"
      ]
     },
     "execution_count": 24,
     "metadata": {},
     "output_type": "execute_result"
    }
   ],
   "source": [
    "#Este es el primer elemento del dataset de prueba (usuario 154, pelicula 302, rating 4)\n",
    "test_set[0]"
   ]
  },
  {
   "cell_type": "markdown",
   "metadata": {
    "id": "kOd-SiVhLd_x"
   },
   "source": [
    "## Creación de modelo de filtrado colaborativo basado en similitud con usuarios o items cercanos\n",
    "\n",
    "Surprise cuenta con la implementación de los modelos colaborativos dentro de la clase [KNNBasic](https://surprise.readthedocs.io/en/stable/knn_inspired.html) \n",
    "\n",
    "El modelo recibe los siguientes parámetros: \n",
    "\n",
    "\n",
    "*   k: El máximo número de vecinos con el que se hará la extrapolación\n",
    "*   min_k : El mínimo número de vecinos con el que se extrapolará un rating\n",
    "*   sim_options : Opciones de similitud pasadas como un diccionario de python, aqui se le configura al modelo el tipo de similitud a usar para encontrar los vecinos y si la extrapolación debe hacerse usando usuarios o items similares. Revise el formato y similitudes disponibles en surprise en [este link](https://surprise.readthedocs.io/en/stable/prediction_algorithms.html#similarity-measure-configuration)\n",
    "\n",
    "\n",
    "\n"
   ]
  },
  {
   "cell_type": "code",
   "execution_count": 25,
   "metadata": {
    "id": "s5A8reiHLdXy"
   },
   "outputs": [],
   "source": [
    "# se crea un modelo knnbasic item-item con similitud coseno \n",
    "sim_options = {'name': 'cosine',\n",
    "               'user_based': False  # calcule similitud item-item\n",
    "               }\n",
    "algo = KNNBasic(k=20, min_k=2, sim_options=sim_options)"
   ]
  },
  {
   "cell_type": "code",
   "execution_count": 26,
   "metadata": {
    "id": "_G8gUHeoUzR-"
   },
   "outputs": [
    {
     "name": "stdout",
     "output_type": "stream",
     "text": [
      "Computing the cosine similarity matrix...\n",
      "Done computing similarity matrix.\n"
     ]
    },
    {
     "data": {
      "text/plain": [
       "<surprise.prediction_algorithms.knns.KNNBasic at 0x2643c21cd30>"
      ]
     },
     "execution_count": 26,
     "metadata": {},
     "output_type": "execute_result"
    }
   ],
   "source": [
    "#Se le pasa la matriz de utilidad al algoritmo \n",
    "algo.fit(trainset=train_set)"
   ]
  },
  {
   "cell_type": "markdown",
   "metadata": {
    "id": "4B1_I0LqY6rd"
   },
   "source": [
    "Una vez cargados los ratings al modelo, se puede realizar una predicción para un usuario, en este caso vamos a calcular la predicción que el modelo esta realizando para la primera entrada del dataset de test la predicción para el usuario con id 154 y el item con id 302, que corresponde a la película L.A. Confidential (1997)\n",
    "\n",
    "---\n",
    "\n"
   ]
  },
  {
   "cell_type": "code",
   "execution_count": 27,
   "metadata": {
    "id": "AdwrR8gVFQuD"
   },
   "outputs": [
    {
     "data": {
      "text/plain": [
       "Prediction(uid=154, iid=302, r_ui=None, est=4.249202065377386, details={'actual_k': 20, 'was_impossible': False})"
      ]
     },
     "execution_count": 27,
     "metadata": {},
     "output_type": "execute_result"
    }
   ],
   "source": [
    "#Verifique la propiedad est de la predicción\n",
    "algo.predict(154,302)"
   ]
  },
  {
   "cell_type": "code",
   "execution_count": 28,
   "metadata": {},
   "outputs": [
    {
     "name": "stderr",
     "output_type": "stream",
     "text": [
      "<ipython-input-28-c27b0b32d17a>:1: UserWarning: Boolean Series key will be reindexed to match DataFrame index.\n",
      "  ratings[ratings['user_id']==154][ratings['item_id']==302]\n"
     ]
    },
    {
     "data": {
      "text/html": [
       "<div>\n",
       "<style scoped>\n",
       "    .dataframe tbody tr th:only-of-type {\n",
       "        vertical-align: middle;\n",
       "    }\n",
       "\n",
       "    .dataframe tbody tr th {\n",
       "        vertical-align: top;\n",
       "    }\n",
       "\n",
       "    .dataframe thead th {\n",
       "        text-align: right;\n",
       "    }\n",
       "</style>\n",
       "<table border=\"1\" class=\"dataframe\">\n",
       "  <thead>\n",
       "    <tr style=\"text-align: right;\">\n",
       "      <th></th>\n",
       "      <th>user_id</th>\n",
       "      <th>item_id</th>\n",
       "      <th>rating</th>\n",
       "      <th>timestamp</th>\n",
       "    </tr>\n",
       "  </thead>\n",
       "  <tbody>\n",
       "    <tr>\n",
       "      <th>2811</th>\n",
       "      <td>154</td>\n",
       "      <td>302</td>\n",
       "      <td>4</td>\n",
       "      <td>879138235</td>\n",
       "    </tr>\n",
       "  </tbody>\n",
       "</table>\n",
       "</div>"
      ],
      "text/plain": [
       "      user_id  item_id  rating  timestamp\n",
       "2811      154      302       4  879138235"
      ]
     },
     "execution_count": 28,
     "metadata": {},
     "output_type": "execute_result"
    }
   ],
   "source": [
    "ratings[ratings['user_id']==154][ratings['item_id']==302]"
   ]
  },
  {
   "cell_type": "code",
   "execution_count": 29,
   "metadata": {
    "id": "dzK37VDQIRIT",
    "scrolled": false
   },
   "outputs": [
    {
     "data": {
      "text/html": [
       "<div>\n",
       "<style scoped>\n",
       "    .dataframe tbody tr th:only-of-type {\n",
       "        vertical-align: middle;\n",
       "    }\n",
       "\n",
       "    .dataframe tbody tr th {\n",
       "        vertical-align: top;\n",
       "    }\n",
       "\n",
       "    .dataframe thead th {\n",
       "        text-align: right;\n",
       "    }\n",
       "</style>\n",
       "<table border=\"1\" class=\"dataframe\">\n",
       "  <thead>\n",
       "    <tr style=\"text-align: right;\">\n",
       "      <th></th>\n",
       "      <th>movie id</th>\n",
       "      <th>movie title</th>\n",
       "      <th>release date</th>\n",
       "      <th>video release date</th>\n",
       "      <th>IMDb URL</th>\n",
       "      <th>unknown</th>\n",
       "      <th>Action</th>\n",
       "      <th>Adventure</th>\n",
       "      <th>Animation</th>\n",
       "      <th>Children</th>\n",
       "      <th>...</th>\n",
       "      <th>Fantasy</th>\n",
       "      <th>Film-Noir</th>\n",
       "      <th>Horror</th>\n",
       "      <th>Musical</th>\n",
       "      <th>Mystery</th>\n",
       "      <th>Romance</th>\n",
       "      <th>Sci-Fi</th>\n",
       "      <th>Thriller</th>\n",
       "      <th>War</th>\n",
       "      <th>Western</th>\n",
       "    </tr>\n",
       "    <tr>\n",
       "      <th>movie id</th>\n",
       "      <th></th>\n",
       "      <th></th>\n",
       "      <th></th>\n",
       "      <th></th>\n",
       "      <th></th>\n",
       "      <th></th>\n",
       "      <th></th>\n",
       "      <th></th>\n",
       "      <th></th>\n",
       "      <th></th>\n",
       "      <th></th>\n",
       "      <th></th>\n",
       "      <th></th>\n",
       "      <th></th>\n",
       "      <th></th>\n",
       "      <th></th>\n",
       "      <th></th>\n",
       "      <th></th>\n",
       "      <th></th>\n",
       "      <th></th>\n",
       "      <th></th>\n",
       "    </tr>\n",
       "  </thead>\n",
       "  <tbody>\n",
       "    <tr>\n",
       "      <th>302</th>\n",
       "      <td>302</td>\n",
       "      <td>L.A. Confidential (1997)</td>\n",
       "      <td>01-Jan-1997</td>\n",
       "      <td>NaN</td>\n",
       "      <td>http://us.imdb.com/M/title-exact?L%2EA%2E+Conf...</td>\n",
       "      <td>0</td>\n",
       "      <td>0</td>\n",
       "      <td>0</td>\n",
       "      <td>0</td>\n",
       "      <td>0</td>\n",
       "      <td>...</td>\n",
       "      <td>0</td>\n",
       "      <td>1</td>\n",
       "      <td>0</td>\n",
       "      <td>0</td>\n",
       "      <td>1</td>\n",
       "      <td>0</td>\n",
       "      <td>0</td>\n",
       "      <td>1</td>\n",
       "      <td>0</td>\n",
       "      <td>0</td>\n",
       "    </tr>\n",
       "  </tbody>\n",
       "</table>\n",
       "<p>1 rows × 24 columns</p>\n",
       "</div>"
      ],
      "text/plain": [
       "          movie id               movie title release date  video release date  \\\n",
       "movie id                                                                        \n",
       "302            302  L.A. Confidential (1997)  01-Jan-1997                 NaN   \n",
       "\n",
       "                                                  IMDb URL   unknown  Action  \\\n",
       "movie id                                                                       \n",
       "302       http://us.imdb.com/M/title-exact?L%2EA%2E+Conf...        0       0   \n",
       "\n",
       "          Adventure  Animation  Children  ...  Fantasy  Film-Noir  Horror  \\\n",
       "movie id                                  ...                               \n",
       "302               0          0         0  ...        0          1       0   \n",
       "\n",
       "          Musical  Mystery  Romance  Sci-Fi  Thriller  War  Western  \n",
       "movie id                                                             \n",
       "302             0        1        0       0         1    0        0  \n",
       "\n",
       "[1 rows x 24 columns]"
      ]
     },
     "execution_count": 29,
     "metadata": {},
     "output_type": "execute_result"
    }
   ],
   "source": [
    "items[items['movie id']==302]"
   ]
  },
  {
   "cell_type": "markdown",
   "metadata": {
    "id": "75RWLbA2a2BE"
   },
   "source": [
    "Como podemos ver, la predicción (4.24) del modelo no esta alejada de lo que realmente opinó el usuario  (4.0)\n",
    "\n",
    "Para medir la calidad de la predicción para todos los usuarios e items del dataset de prueba, vamos a comparar lo que dice el modelo de predicción vs lo que dice el conjunto de prueba, para esto vamos a usar la métrica [RMSE](https://surprise.readthedocs.io/en/stable/accuracy.html#surprise.accuracy.rmse)\n",
    "\n",
    "Inicialmente calculamos la predicción para todos los elementos del conjunto de test"
   ]
  },
  {
   "cell_type": "code",
   "execution_count": 30,
   "metadata": {
    "id": "xOl2ObNSIk8T"
   },
   "outputs": [],
   "source": [
    "test_predictions=algo.test(test_set)"
   ]
  },
  {
   "cell_type": "code",
   "execution_count": 31,
   "metadata": {
    "id": "kRlvK_f2ZN7t"
   },
   "outputs": [
    {
     "data": {
      "text/plain": [
       "[Prediction(uid=154, iid=302, r_ui=4.0, est=4.249202065377386, details={'actual_k': 20, 'was_impossible': False}),\n",
       " Prediction(uid=896, iid=484, r_ui=4.0, est=2.8976616922320964, details={'actual_k': 20, 'was_impossible': False}),\n",
       " Prediction(uid=230, iid=371, r_ui=4.0, est=4.1968378983432535, details={'actual_k': 20, 'was_impossible': False}),\n",
       " Prediction(uid=234, iid=294, r_ui=3.0, est=3.0978778071364186, details={'actual_k': 20, 'was_impossible': False}),\n",
       " Prediction(uid=25, iid=729, r_ui=4.0, est=4.148885433441103, details={'actual_k': 20, 'was_impossible': False})]"
      ]
     },
     "execution_count": 31,
     "metadata": {},
     "output_type": "execute_result"
    }
   ],
   "source": [
    "#5 primeras predicciones\n",
    "test_predictions[0:5]"
   ]
  },
  {
   "cell_type": "markdown",
   "metadata": {
    "id": "yqgYbxzwe59D"
   },
   "source": [
    "Ahora se mide el RMSE de las predicciones vs el valor del dataset"
   ]
  },
  {
   "cell_type": "code",
   "execution_count": 32,
   "metadata": {
    "id": "RDK_8jlUeyVL"
   },
   "outputs": [
    {
     "name": "stdout",
     "output_type": "stream",
     "text": [
      "RMSE: 1.0453\n"
     ]
    },
    {
     "data": {
      "text/plain": [
       "1.0453343976192102"
      ]
     },
     "execution_count": 32,
     "metadata": {},
     "output_type": "execute_result"
    }
   ],
   "source": [
    "# En promedio, el sistema encuentra ratings que estan una estrella por encima o por debajo del rating del usuario\n",
    "accuracy.rmse( test_predictions, verbose = True )"
   ]
  },
  {
   "cell_type": "markdown",
   "metadata": {
    "id": "Ge8msMcPgFwy"
   },
   "source": [
    "## Utilice las siguientes celdas para encontrar la respuesta a las siguientes preguntas\n",
    "\n",
    "¿Cuál es el RMSE de un modelo usuario-usuario con los mismos parámetros de similitud?\n",
    "\n",
    "¿Cuál es el efecto de cambiar el número de vecinos en la calidad del modelo usuario-usuario ? \n",
    "\n",
    "Pruebe para un número diferente de vecinos (e.j 5, 10, 20, 50, 100)"
   ]
  },
  {
   "cell_type": "code",
   "execution_count": 33,
   "metadata": {
    "id": "0Eb-sHBnfw8b"
   },
   "outputs": [],
   "source": [
    "def calculateRMSE(k, uservuser):\n",
    "    # se crea un modelo knnbasic item-item con similitud coseno \n",
    "    sim_options = {'name': 'cosine',\n",
    "                   'user_based': uservuser  # calcule similitud item-item\n",
    "                   }\n",
    "    algoBase = KNNBasic(k=k, min_k=2, sim_options=sim_options)\n",
    "    \n",
    "    #Se le pasa la matriz de utilidad al algoritmo \n",
    "    algoBase.fit(trainset=train_set)\n",
    "    \n",
    "    test_predictions=algoBase.test(test_set)\n",
    "    return accuracy.rmse( test_predictions, verbose = False )"
   ]
  },
  {
   "cell_type": "code",
   "execution_count": 34,
   "metadata": {
    "id": "RgE2Oib_gYuK"
   },
   "outputs": [
    {
     "name": "stdout",
     "output_type": "stream",
     "text": [
      "Computing the cosine similarity matrix...\n",
      "Done computing similarity matrix.\n",
      "Computing the cosine similarity matrix...\n",
      "Done computing similarity matrix.\n",
      "Computing the cosine similarity matrix...\n",
      "Done computing similarity matrix.\n",
      "Computing the cosine similarity matrix...\n",
      "Done computing similarity matrix.\n",
      "Computing the cosine similarity matrix...\n",
      "Done computing similarity matrix.\n",
      "Computing the cosine similarity matrix...\n",
      "Done computing similarity matrix.\n",
      "Computing the cosine similarity matrix...\n",
      "Done computing similarity matrix.\n",
      "Computing the cosine similarity matrix...\n",
      "Done computing similarity matrix.\n",
      "Computing the cosine similarity matrix...\n",
      "Done computing similarity matrix.\n",
      "Computing the cosine similarity matrix...\n",
      "Done computing similarity matrix.\n",
      "\n",
      "\n",
      "\n",
      "================================\n",
      "RMSE for user-user model with K = 5: 1.0838620997926653\n",
      "RMSE for user-user model with K = 10: 1.0385724992200804\n",
      "RMSE for user-user model with K = 20: 1.0166414414593592\n",
      "RMSE for user-user model with K = 50: 1.0094939948005999\n",
      "RMSE for user-user model with K = 100: 1.0113077032099977\n",
      "================================\n",
      "RMSE for item-item model with K = 5: 1.172646283763197\n",
      "RMSE for item-item model with K = 10: 1.0935585668130063\n",
      "RMSE for item-item model with K = 20: 1.0453343976192102\n",
      "RMSE for item-item model with K = 50: 1.0203927142857199\n",
      "RMSE for item-item model with K = 100: 1.022320167919397\n"
     ]
    }
   ],
   "source": [
    "rmse_list = []\n",
    "k_list = [5, 10, 20, 50, 100]\n",
    "for x in k_list:\n",
    "    rmse_list.append(calculateRMSE(x, True))\n",
    "    \n",
    "rmse_list_2 = []\n",
    "for x in k_list:\n",
    "    rmse_list_2.append(calculateRMSE(x, False))\n",
    "    \n",
    "print('\\n\\n\\n================================')\n",
    "for x in range(0, len(rmse_list)):\n",
    "    print(f'RMSE for user-user model with K = {k_list[x]}: {rmse_list[x]}')\n",
    "    \n",
    "print('================================')\n",
    "for x in range(0, len(rmse_list_2)):\n",
    "    print(f'RMSE for item-item model with K = {k_list[x]}: {rmse_list_2[x]}')"
   ]
  },
  {
   "cell_type": "markdown",
   "metadata": {
    "id": "ZqMr2MlbkJch"
   },
   "source": [
    "## Generando listas de predicciones para los usuarios\n",
    "\n",
    "Retomemos nuestro modelo inicial y ajustémolo con todos los ratings disponibles\n",
    "\n",
    "Para generar una lista de recomendación se debe crear un dataset de \"test\" con las entradas faltantes de la matriz utilidad para que el modelo cree las predicciones (terminar de llenar la matriz de utilidad)\n",
    "\n"
   ]
  },
  {
   "cell_type": "code",
   "execution_count": 35,
   "metadata": {
    "id": "y0ZYsiPXktjg"
   },
   "outputs": [
    {
     "name": "stdout",
     "output_type": "stream",
     "text": [
      "Computing the cosine similarity matrix...\n",
      "Done computing similarity matrix.\n"
     ]
    }
   ],
   "source": [
    "#Se crea el dataset para modelo \n",
    "rating_data=surprise_dataset.build_full_trainset()\n",
    "# Se crea dataset de \"prueba\" con las entradas faltantes para generar las predicciones\n",
    "test=rating_data.build_anti_testset()\n",
    "\n",
    "# se crea el mismo modelo que el del ejemplo\n",
    "sim_options = {'name': 'cosine',\n",
    "               'user_based': False  # calcule similitud item-item\n",
    "               }\n",
    "algo = KNNBasic(k=20, min_k=2, sim_options=sim_options)\n",
    "algo.fit(rating_data)\n",
    "predictions=algo.test(test)"
   ]
  },
  {
   "cell_type": "code",
   "execution_count": 36,
   "metadata": {
    "id": "eH2O_3iFsR6e"
   },
   "outputs": [
    {
     "data": {
      "text/plain": [
       "[Prediction(uid=196, iid=302, r_ui=3.52986, est=3.4998074068929244, details={'actual_k': 20, 'was_impossible': False}),\n",
       " Prediction(uid=196, iid=377, r_ui=3.52986, est=3.531852919263047, details={'actual_k': 20, 'was_impossible': False}),\n",
       " Prediction(uid=196, iid=51, r_ui=3.52986, est=3.59549677885145, details={'actual_k': 20, 'was_impossible': False}),\n",
       " Prediction(uid=196, iid=346, r_ui=3.52986, est=3.5471070543165877, details={'actual_k': 20, 'was_impossible': False}),\n",
       " Prediction(uid=196, iid=474, r_ui=3.52986, est=3.7990088769026116, details={'actual_k': 20, 'was_impossible': False}),\n",
       " Prediction(uid=196, iid=265, r_ui=3.52986, est=3.4464297466659812, details={'actual_k': 20, 'was_impossible': False}),\n",
       " Prediction(uid=196, iid=465, r_ui=3.52986, est=3.5022156502733557, details={'actual_k': 20, 'was_impossible': False}),\n",
       " Prediction(uid=196, iid=451, r_ui=3.52986, est=3.6948301041629965, details={'actual_k': 20, 'was_impossible': False}),\n",
       " Prediction(uid=196, iid=86, r_ui=3.52986, est=3.750152492406962, details={'actual_k': 20, 'was_impossible': False}),\n",
       " Prediction(uid=196, iid=1014, r_ui=3.52986, est=3.345072753258412, details={'actual_k': 20, 'was_impossible': False})]"
      ]
     },
     "execution_count": 36,
     "metadata": {},
     "output_type": "execute_result"
    }
   ],
   "source": [
    "#10 primeras predicciones\n",
    "predictions[0:10]"
   ]
  },
  {
   "cell_type": "code",
   "execution_count": 37,
   "metadata": {
    "id": "Bd8lOnRXpPBm"
   },
   "outputs": [],
   "source": [
    "#Predicciones para usuario 196\n",
    "user_predictions=list(filter(lambda x: x[0]==196,predictions))"
   ]
  },
  {
   "cell_type": "code",
   "execution_count": 38,
   "metadata": {
    "id": "NIQAuEo4rHA2"
   },
   "outputs": [],
   "source": [
    "#Ordenamos de mayor a menor estimación de relevancia\n",
    "user_predictions.sort(key=lambda x : x.est, reverse=True)"
   ]
  },
  {
   "cell_type": "code",
   "execution_count": 39,
   "metadata": {
    "id": "GmcwrOJ-sy9G"
   },
   "outputs": [],
   "source": [
    "#tomamos las 10 primeras predicciones\n",
    "user_predictions=user_predictions[0:10]"
   ]
  },
  {
   "cell_type": "code",
   "execution_count": 40,
   "metadata": {
    "id": "FFaVRp3dtBZF"
   },
   "outputs": [
    {
     "data": {
      "text/plain": [
       "[Prediction(uid=196, iid=1309, r_ui=3.52986, est=4.5, details={'actual_k': 4, 'was_impossible': False}),\n",
       " Prediction(uid=196, iid=1310, r_ui=3.52986, est=4.5, details={'actual_k': 4, 'was_impossible': False}),\n",
       " Prediction(uid=196, iid=1676, r_ui=3.52986, est=4.25, details={'actual_k': 8, 'was_impossible': False}),\n",
       " Prediction(uid=196, iid=1675, r_ui=3.52986, est=4.25, details={'actual_k': 8, 'was_impossible': False}),\n",
       " Prediction(uid=196, iid=1289, r_ui=3.52986, est=4.202435603862276, details={'actual_k': 20, 'was_impossible': False}),\n",
       " Prediction(uid=196, iid=1643, r_ui=3.52986, est=4.097225899300029, details={'actual_k': 20, 'was_impossible': False}),\n",
       " Prediction(uid=196, iid=1593, r_ui=3.52986, est=4.090909090909091, details={'actual_k': 11, 'was_impossible': False}),\n",
       " Prediction(uid=196, iid=935, r_ui=3.52986, est=4.05136705364539, details={'actual_k': 20, 'was_impossible': False}),\n",
       " Prediction(uid=196, iid=1216, r_ui=3.52986, est=4.0506920732628675, details={'actual_k': 20, 'was_impossible': False}),\n",
       " Prediction(uid=196, iid=1312, r_ui=3.52986, est=4.049246841254085, details={'actual_k': 20, 'was_impossible': False})]"
      ]
     },
     "execution_count": 40,
     "metadata": {},
     "output_type": "execute_result"
    }
   ],
   "source": [
    "user_predictions"
   ]
  },
  {
   "cell_type": "code",
   "execution_count": 41,
   "metadata": {
    "id": "7kRPNGHEtcux"
   },
   "outputs": [],
   "source": [
    "#Se convierte a dataframe\n",
    "labels = ['movie id', 'estimation']\n",
    "df_predictions = pd.DataFrame.from_records(list(map(lambda x: (x.iid, x.est) , user_predictions)), columns=labels)"
   ]
  },
  {
   "cell_type": "code",
   "execution_count": 42,
   "metadata": {
    "id": "2jN05Pskz8jN"
   },
   "outputs": [
    {
     "data": {
      "text/html": [
       "<div>\n",
       "<style scoped>\n",
       "    .dataframe tbody tr th:only-of-type {\n",
       "        vertical-align: middle;\n",
       "    }\n",
       "\n",
       "    .dataframe tbody tr th {\n",
       "        vertical-align: top;\n",
       "    }\n",
       "\n",
       "    .dataframe thead th {\n",
       "        text-align: right;\n",
       "    }\n",
       "</style>\n",
       "<table border=\"1\" class=\"dataframe\">\n",
       "  <thead>\n",
       "    <tr style=\"text-align: right;\">\n",
       "      <th></th>\n",
       "      <th>movie id</th>\n",
       "      <th>estimation</th>\n",
       "    </tr>\n",
       "  </thead>\n",
       "  <tbody>\n",
       "    <tr>\n",
       "      <th>0</th>\n",
       "      <td>1309</td>\n",
       "      <td>4.500000</td>\n",
       "    </tr>\n",
       "    <tr>\n",
       "      <th>1</th>\n",
       "      <td>1310</td>\n",
       "      <td>4.500000</td>\n",
       "    </tr>\n",
       "    <tr>\n",
       "      <th>2</th>\n",
       "      <td>1676</td>\n",
       "      <td>4.250000</td>\n",
       "    </tr>\n",
       "    <tr>\n",
       "      <th>3</th>\n",
       "      <td>1675</td>\n",
       "      <td>4.250000</td>\n",
       "    </tr>\n",
       "    <tr>\n",
       "      <th>4</th>\n",
       "      <td>1289</td>\n",
       "      <td>4.202436</td>\n",
       "    </tr>\n",
       "    <tr>\n",
       "      <th>5</th>\n",
       "      <td>1643</td>\n",
       "      <td>4.097226</td>\n",
       "    </tr>\n",
       "    <tr>\n",
       "      <th>6</th>\n",
       "      <td>1593</td>\n",
       "      <td>4.090909</td>\n",
       "    </tr>\n",
       "    <tr>\n",
       "      <th>7</th>\n",
       "      <td>935</td>\n",
       "      <td>4.051367</td>\n",
       "    </tr>\n",
       "    <tr>\n",
       "      <th>8</th>\n",
       "      <td>1216</td>\n",
       "      <td>4.050692</td>\n",
       "    </tr>\n",
       "    <tr>\n",
       "      <th>9</th>\n",
       "      <td>1312</td>\n",
       "      <td>4.049247</td>\n",
       "    </tr>\n",
       "  </tbody>\n",
       "</table>\n",
       "</div>"
      ],
      "text/plain": [
       "   movie id  estimation\n",
       "0      1309    4.500000\n",
       "1      1310    4.500000\n",
       "2      1676    4.250000\n",
       "3      1675    4.250000\n",
       "4      1289    4.202436\n",
       "5      1643    4.097226\n",
       "6      1593    4.090909\n",
       "7       935    4.051367\n",
       "8      1216    4.050692\n",
       "9      1312    4.049247"
      ]
     },
     "execution_count": 42,
     "metadata": {},
     "output_type": "execute_result"
    }
   ],
   "source": [
    "df_predictions"
   ]
  },
  {
   "cell_type": "code",
   "execution_count": 43,
   "metadata": {
    "id": "YvWQuyJGuaGV"
   },
   "outputs": [
    {
     "data": {
      "text/html": [
       "<div>\n",
       "<style scoped>\n",
       "    .dataframe tbody tr th:only-of-type {\n",
       "        vertical-align: middle;\n",
       "    }\n",
       "\n",
       "    .dataframe tbody tr th {\n",
       "        vertical-align: top;\n",
       "    }\n",
       "\n",
       "    .dataframe thead th {\n",
       "        text-align: right;\n",
       "    }\n",
       "</style>\n",
       "<table border=\"1\" class=\"dataframe\">\n",
       "  <thead>\n",
       "    <tr style=\"text-align: right;\">\n",
       "      <th></th>\n",
       "      <th>movie id</th>\n",
       "      <th>estimation</th>\n",
       "    </tr>\n",
       "  </thead>\n",
       "  <tbody>\n",
       "    <tr>\n",
       "      <th>0</th>\n",
       "      <td>1309</td>\n",
       "      <td>4.500000</td>\n",
       "    </tr>\n",
       "    <tr>\n",
       "      <th>1</th>\n",
       "      <td>1310</td>\n",
       "      <td>4.500000</td>\n",
       "    </tr>\n",
       "    <tr>\n",
       "      <th>2</th>\n",
       "      <td>1676</td>\n",
       "      <td>4.250000</td>\n",
       "    </tr>\n",
       "    <tr>\n",
       "      <th>3</th>\n",
       "      <td>1675</td>\n",
       "      <td>4.250000</td>\n",
       "    </tr>\n",
       "    <tr>\n",
       "      <th>4</th>\n",
       "      <td>1289</td>\n",
       "      <td>4.202436</td>\n",
       "    </tr>\n",
       "    <tr>\n",
       "      <th>5</th>\n",
       "      <td>1643</td>\n",
       "      <td>4.097226</td>\n",
       "    </tr>\n",
       "    <tr>\n",
       "      <th>6</th>\n",
       "      <td>1593</td>\n",
       "      <td>4.090909</td>\n",
       "    </tr>\n",
       "    <tr>\n",
       "      <th>7</th>\n",
       "      <td>935</td>\n",
       "      <td>4.051367</td>\n",
       "    </tr>\n",
       "    <tr>\n",
       "      <th>8</th>\n",
       "      <td>1216</td>\n",
       "      <td>4.050692</td>\n",
       "    </tr>\n",
       "    <tr>\n",
       "      <th>9</th>\n",
       "      <td>1312</td>\n",
       "      <td>4.049247</td>\n",
       "    </tr>\n",
       "  </tbody>\n",
       "</table>\n",
       "</div>"
      ],
      "text/plain": [
       "   movie id  estimation\n",
       "0      1309    4.500000\n",
       "1      1310    4.500000\n",
       "2      1676    4.250000\n",
       "3      1675    4.250000\n",
       "4      1289    4.202436\n",
       "5      1643    4.097226\n",
       "6      1593    4.090909\n",
       "7       935    4.051367\n",
       "8      1216    4.050692\n",
       "9      1312    4.049247"
      ]
     },
     "execution_count": 43,
     "metadata": {},
     "output_type": "execute_result"
    }
   ],
   "source": [
    "#Lo unimos con el dataframe de películas\n",
    "df_predictions.merge(items[['movie title','IMDb URL ']], how='left', right_index=True, left_on='movie id')\n",
    "df_predictions.sort_values(ascending=False, by=\"estimation\")[:10]"
   ]
  },
  {
   "cell_type": "markdown",
   "metadata": {
    "id": "4oAheKoNvTU0"
   },
   "source": [
    "## Utilice las siguientes celdas para encontrar la respuesta a las siguientes preguntas\n",
    "\n",
    "Cree al menos 2 usuarios (al primero asígnele el id 944) y cree para cada usuario ratings nuevos (puede hacerlo haciendo a traves del [dataframe](https://pandas.pydata.org/pandas-docs/stable/reference/api/pandas.DataFrame.append.html), o añadiendo líneas al archivo). Asigne a un usuario preferencias de un segmento popular (mainstream) y a otro preferencias de un nicho.\n",
    "\n",
    "¿Que tan bien cree que el sistema esta respondiendo a los gustos del usuario?\n",
    "\n",
    "¿Que tan bien cree que el sistema esta respondiendo al objetivo de buscar items para el usuario dentro de la cola larga?"
   ]
  },
  {
   "cell_type": "code",
   "execution_count": 44,
   "metadata": {
    "id": "mQ4vk_19unXV",
    "scrolled": true
   },
   "outputs": [],
   "source": [
    "id1 = ratings['user_id'].max()+1\n",
    "id2 = id1+1\n",
    "\n",
    "rowsToAppend = [\n",
    "    [id1, 318, 5, 891717742],\n",
    "    [id1, 603, 2, 891717742],\n",
    "    [id1, 50, 4, 891717742],\n",
    "    [id1, 12, 4, 891717742],\n",
    "    [id2, 1682,5, 891717742],\n",
    "    [id2, 814, 2, 891717742],\n",
    "    [id2, 1447, 4, 891717742],\n",
    "    [id2, 1593, 4, 891717742]\n",
    "]\n",
    "ratings_extra = ratings.append(pd.DataFrame(rowsToAppend, columns=ratings.columns))"
   ]
  },
  {
   "cell_type": "code",
   "execution_count": 45,
   "metadata": {},
   "outputs": [
    {
     "name": "stdout",
     "output_type": "stream",
     "text": [
      "Computing the cosine similarity matrix...\n",
      "Done computing similarity matrix.\n"
     ]
    }
   ],
   "source": [
    "reader = Reader( rating_scale = ( 1, 5 ) )\n",
    "#Se crea el dataset a partir del dataframe\n",
    "surprise_dataset = Dataset.load_from_df( ratings_extra[ [ 'user_id', 'item_id', 'rating' ] ], reader )\n",
    "\n",
    "#Se crea el dataset para modelo \n",
    "rating_data=surprise_dataset.build_full_trainset()\n",
    "# Se crea dataset de \"prueba\" con las entradas faltantes para generar las predicciones\n",
    "test=rating_data.build_anti_testset()\n",
    "\n",
    "# se crea el mismo modelo que el del ejemplo\n",
    "sim_options = {'name': 'cosine',\n",
    "               'user_based': False  # calcule similitud item-item\n",
    "               }\n",
    "algo_analysis = KNNBasic(k=20, min_k=2, sim_options=sim_options)\n",
    "algo_analysis.fit(rating_data)\n",
    "predictions_analysis=algo_analysis.test(test)"
   ]
  },
  {
   "cell_type": "code",
   "execution_count": 46,
   "metadata": {},
   "outputs": [
    {
     "data": {
      "text/html": [
       "<div>\n",
       "<style scoped>\n",
       "    .dataframe tbody tr th:only-of-type {\n",
       "        vertical-align: middle;\n",
       "    }\n",
       "\n",
       "    .dataframe tbody tr th {\n",
       "        vertical-align: top;\n",
       "    }\n",
       "\n",
       "    .dataframe thead th {\n",
       "        text-align: right;\n",
       "    }\n",
       "</style>\n",
       "<table border=\"1\" class=\"dataframe\">\n",
       "  <thead>\n",
       "    <tr style=\"text-align: right;\">\n",
       "      <th></th>\n",
       "      <th>movie id</th>\n",
       "      <th>estimation</th>\n",
       "      <th>movie title</th>\n",
       "      <th>mean</th>\n",
       "      <th>count</th>\n",
       "      <th>var</th>\n",
       "    </tr>\n",
       "  </thead>\n",
       "  <tbody>\n",
       "    <tr>\n",
       "      <th>0</th>\n",
       "      <td>1350</td>\n",
       "      <td>4.500000</td>\n",
       "      <td>Crows and Sparrows (1949)</td>\n",
       "      <td>1.500</td>\n",
       "      <td>2</td>\n",
       "      <td>0.500000</td>\n",
       "    </tr>\n",
       "    <tr>\n",
       "      <th>1</th>\n",
       "      <td>1520</td>\n",
       "      <td>4.500000</td>\n",
       "      <td>Fear, The (1995)</td>\n",
       "      <td>3.000</td>\n",
       "      <td>1</td>\n",
       "      <td>NaN</td>\n",
       "    </tr>\n",
       "    <tr>\n",
       "      <th>2</th>\n",
       "      <td>1533</td>\n",
       "      <td>4.500000</td>\n",
       "      <td>I Don't Want to Talk About It (De eso no se ha...</td>\n",
       "      <td>4.000</td>\n",
       "      <td>1</td>\n",
       "      <td>NaN</td>\n",
       "    </tr>\n",
       "    <tr>\n",
       "      <th>3</th>\n",
       "      <td>1026</td>\n",
       "      <td>4.500000</td>\n",
       "      <td>Lay of the Land, The (1997)</td>\n",
       "      <td>2.500</td>\n",
       "      <td>4</td>\n",
       "      <td>3.666667</td>\n",
       "    </tr>\n",
       "    <tr>\n",
       "      <th>4</th>\n",
       "      <td>1614</td>\n",
       "      <td>4.500000</td>\n",
       "      <td>Reluctant Debutante, The (1958)</td>\n",
       "      <td>3.000</td>\n",
       "      <td>1</td>\n",
       "      <td>NaN</td>\n",
       "    </tr>\n",
       "    <tr>\n",
       "      <th>5</th>\n",
       "      <td>1654</td>\n",
       "      <td>4.500000</td>\n",
       "      <td>Chairman of the Board (1998)</td>\n",
       "      <td>1.000</td>\n",
       "      <td>1</td>\n",
       "      <td>NaN</td>\n",
       "    </tr>\n",
       "    <tr>\n",
       "      <th>6</th>\n",
       "      <td>1673</td>\n",
       "      <td>4.500000</td>\n",
       "      <td>Mirage (1995)</td>\n",
       "      <td>3.000</td>\n",
       "      <td>1</td>\n",
       "      <td>NaN</td>\n",
       "    </tr>\n",
       "    <tr>\n",
       "      <th>7</th>\n",
       "      <td>1234</td>\n",
       "      <td>4.456395</td>\n",
       "      <td>Chairman of the Board (1998)</td>\n",
       "      <td>2.375</td>\n",
       "      <td>8</td>\n",
       "      <td>2.553571</td>\n",
       "    </tr>\n",
       "    <tr>\n",
       "      <th>8</th>\n",
       "      <td>1597</td>\n",
       "      <td>4.363099</td>\n",
       "      <td>Romper Stomper (1992)</td>\n",
       "      <td>3.000</td>\n",
       "      <td>5</td>\n",
       "      <td>2.000000</td>\n",
       "    </tr>\n",
       "    <tr>\n",
       "      <th>9</th>\n",
       "      <td>1080</td>\n",
       "      <td>4.350708</td>\n",
       "      <td>Celestial Clockwork (1994)</td>\n",
       "      <td>4.000</td>\n",
       "      <td>2</td>\n",
       "      <td>0.000000</td>\n",
       "    </tr>\n",
       "  </tbody>\n",
       "</table>\n",
       "</div>"
      ],
      "text/plain": [
       "   movie id  estimation                                        movie title  \\\n",
       "0      1350    4.500000                          Crows and Sparrows (1949)   \n",
       "1      1520    4.500000                                   Fear, The (1995)   \n",
       "2      1533    4.500000  I Don't Want to Talk About It (De eso no se ha...   \n",
       "3      1026    4.500000                        Lay of the Land, The (1997)   \n",
       "4      1614    4.500000                    Reluctant Debutante, The (1958)   \n",
       "5      1654    4.500000                       Chairman of the Board (1998)   \n",
       "6      1673    4.500000                                      Mirage (1995)   \n",
       "7      1234    4.456395                       Chairman of the Board (1998)   \n",
       "8      1597    4.363099                              Romper Stomper (1992)   \n",
       "9      1080    4.350708                         Celestial Clockwork (1994)   \n",
       "\n",
       "    mean  count       var  \n",
       "0  1.500      2  0.500000  \n",
       "1  3.000      1       NaN  \n",
       "2  4.000      1       NaN  \n",
       "3  2.500      4  3.666667  \n",
       "4  3.000      1       NaN  \n",
       "5  1.000      1       NaN  \n",
       "6  3.000      1       NaN  \n",
       "7  2.375      8  2.553571  \n",
       "8  3.000      5  2.000000  \n",
       "9  4.000      2  0.000000  "
      ]
     },
     "execution_count": 46,
     "metadata": {},
     "output_type": "execute_result"
    }
   ],
   "source": [
    "#predictions for user id1\n",
    "\n",
    "user_predictions=list(filter(lambda x: x[0]==id1,predictions_analysis))\n",
    "user_predictions.sort(key=lambda x : x.est, reverse=True)\n",
    "user_predictions=user_predictions[0:10]\n",
    "\n",
    "labels = ['movie id', 'estimation']\n",
    "df_predictions_id1 = pd.DataFrame.from_records(list(map(lambda x: (x.iid, x.est) , user_predictions)), columns=labels).join(item_ratings_agg[['movie title', 'mean', 'count', 'var']], on='movie id', how='left')\n",
    "df_predictions_id1"
   ]
  },
  {
   "cell_type": "code",
   "execution_count": 47,
   "metadata": {},
   "outputs": [
    {
     "data": {
      "text/html": [
       "<div>\n",
       "<style scoped>\n",
       "    .dataframe tbody tr th:only-of-type {\n",
       "        vertical-align: middle;\n",
       "    }\n",
       "\n",
       "    .dataframe tbody tr th {\n",
       "        vertical-align: top;\n",
       "    }\n",
       "\n",
       "    .dataframe thead th {\n",
       "        text-align: right;\n",
       "    }\n",
       "</style>\n",
       "<table border=\"1\" class=\"dataframe\">\n",
       "  <thead>\n",
       "    <tr style=\"text-align: right;\">\n",
       "      <th></th>\n",
       "      <th>movie id</th>\n",
       "      <th>estimation</th>\n",
       "      <th>movie title</th>\n",
       "      <th>mean</th>\n",
       "      <th>count</th>\n",
       "      <th>var</th>\n",
       "    </tr>\n",
       "  </thead>\n",
       "  <tbody>\n",
       "    <tr>\n",
       "      <th>0</th>\n",
       "      <td>54</td>\n",
       "      <td>4.5</td>\n",
       "      <td>Outbreak (1995)</td>\n",
       "      <td>3.240385</td>\n",
       "      <td>104</td>\n",
       "      <td>0.689227</td>\n",
       "    </tr>\n",
       "    <tr>\n",
       "      <th>1</th>\n",
       "      <td>151</td>\n",
       "      <td>4.5</td>\n",
       "      <td>Willy Wonka and the Chocolate Factory (1971)</td>\n",
       "      <td>3.631902</td>\n",
       "      <td>326</td>\n",
       "      <td>1.199471</td>\n",
       "    </tr>\n",
       "    <tr>\n",
       "      <th>2</th>\n",
       "      <td>77</td>\n",
       "      <td>4.5</td>\n",
       "      <td>Firm, The (1993)</td>\n",
       "      <td>3.278146</td>\n",
       "      <td>151</td>\n",
       "      <td>0.908786</td>\n",
       "    </tr>\n",
       "    <tr>\n",
       "      <th>3</th>\n",
       "      <td>106</td>\n",
       "      <td>4.5</td>\n",
       "      <td>Diabolique (1996)</td>\n",
       "      <td>2.887324</td>\n",
       "      <td>71</td>\n",
       "      <td>1.015694</td>\n",
       "    </tr>\n",
       "    <tr>\n",
       "      <th>4</th>\n",
       "      <td>214</td>\n",
       "      <td>4.5</td>\n",
       "      <td>Pink Floyd - The Wall (1982)</td>\n",
       "      <td>3.350877</td>\n",
       "      <td>114</td>\n",
       "      <td>1.344822</td>\n",
       "    </tr>\n",
       "    <tr>\n",
       "      <th>5</th>\n",
       "      <td>171</td>\n",
       "      <td>4.5</td>\n",
       "      <td>Delicatessen (1991)</td>\n",
       "      <td>3.876923</td>\n",
       "      <td>65</td>\n",
       "      <td>1.015865</td>\n",
       "    </tr>\n",
       "    <tr>\n",
       "      <th>6</th>\n",
       "      <td>65</td>\n",
       "      <td>4.5</td>\n",
       "      <td>What's Eating Gilbert Grape (1993)</td>\n",
       "      <td>3.539130</td>\n",
       "      <td>115</td>\n",
       "      <td>0.917315</td>\n",
       "    </tr>\n",
       "    <tr>\n",
       "      <th>7</th>\n",
       "      <td>959</td>\n",
       "      <td>4.5</td>\n",
       "      <td>Dazed and Confused (1993)</td>\n",
       "      <td>3.468750</td>\n",
       "      <td>64</td>\n",
       "      <td>1.205357</td>\n",
       "    </tr>\n",
       "    <tr>\n",
       "      <th>8</th>\n",
       "      <td>642</td>\n",
       "      <td>4.5</td>\n",
       "      <td>Grifters, The (1990)</td>\n",
       "      <td>3.483146</td>\n",
       "      <td>89</td>\n",
       "      <td>0.979826</td>\n",
       "    </tr>\n",
       "    <tr>\n",
       "      <th>9</th>\n",
       "      <td>81</td>\n",
       "      <td>4.5</td>\n",
       "      <td>Hudsucker Proxy, The (1994)</td>\n",
       "      <td>3.554545</td>\n",
       "      <td>110</td>\n",
       "      <td>1.258465</td>\n",
       "    </tr>\n",
       "  </tbody>\n",
       "</table>\n",
       "</div>"
      ],
      "text/plain": [
       "   movie id  estimation                                   movie title  \\\n",
       "0        54         4.5                               Outbreak (1995)   \n",
       "1       151         4.5  Willy Wonka and the Chocolate Factory (1971)   \n",
       "2        77         4.5                              Firm, The (1993)   \n",
       "3       106         4.5                             Diabolique (1996)   \n",
       "4       214         4.5                  Pink Floyd - The Wall (1982)   \n",
       "5       171         4.5                           Delicatessen (1991)   \n",
       "6        65         4.5            What's Eating Gilbert Grape (1993)   \n",
       "7       959         4.5                     Dazed and Confused (1993)   \n",
       "8       642         4.5                          Grifters, The (1990)   \n",
       "9        81         4.5                   Hudsucker Proxy, The (1994)   \n",
       "\n",
       "       mean  count       var  \n",
       "0  3.240385    104  0.689227  \n",
       "1  3.631902    326  1.199471  \n",
       "2  3.278146    151  0.908786  \n",
       "3  2.887324     71  1.015694  \n",
       "4  3.350877    114  1.344822  \n",
       "5  3.876923     65  1.015865  \n",
       "6  3.539130    115  0.917315  \n",
       "7  3.468750     64  1.205357  \n",
       "8  3.483146     89  0.979826  \n",
       "9  3.554545    110  1.258465  "
      ]
     },
     "execution_count": 47,
     "metadata": {},
     "output_type": "execute_result"
    }
   ],
   "source": [
    "#predictions for user id2\n",
    "\n",
    "user_predictions=list(filter(lambda x: x[0]==id2,predictions_analysis))\n",
    "user_predictions.sort(key=lambda x : x.est, reverse=True)\n",
    "user_predictions=user_predictions[0:10]\n",
    "\n",
    "labels = ['movie id', 'estimation']\n",
    "df_predictions_id2 = pd.DataFrame.from_records(list(map(lambda x: (x.iid, x.est) , user_predictions)), columns=labels).join(item_ratings_agg[['movie title', 'mean', 'count', 'var']], on='movie id', how='left')\n",
    "df_predictions_id2"
   ]
  },
  {
   "cell_type": "markdown",
   "metadata": {},
   "source": [
    "## 3) Sistema de recomendación con libreria Lenskit "
   ]
  },
  {
   "cell_type": "code",
   "execution_count": 48,
   "metadata": {},
   "outputs": [],
   "source": [
    "from lenskit import batch, topn, util\n",
    "from lenskit import crossfold as xf\n",
    "from lenskit.algorithms import Recommender, als, item_knn as knn_i, user_knn as knn_u\n",
    "from lenskit import topn"
   ]
  },
  {
   "cell_type": "code",
   "execution_count": 49,
   "metadata": {},
   "outputs": [],
   "source": [
    "#Se trabaja tanto el algoritmo knn para item-item como user-user. El objetivo es comparar la calidad de los resultados\n",
    "algo_ii = knn_i.ItemItem(20)\n",
    "algo_uu = knn_u.UserUser(20)"
   ]
  },
  {
   "cell_type": "code",
   "execution_count": 50,
   "metadata": {},
   "outputs": [
    {
     "data": {
      "text/html": [
       "<div>\n",
       "<style scoped>\n",
       "    .dataframe tbody tr th:only-of-type {\n",
       "        vertical-align: middle;\n",
       "    }\n",
       "\n",
       "    .dataframe tbody tr th {\n",
       "        vertical-align: top;\n",
       "    }\n",
       "\n",
       "    .dataframe thead th {\n",
       "        text-align: right;\n",
       "    }\n",
       "</style>\n",
       "<table border=\"1\" class=\"dataframe\">\n",
       "  <thead>\n",
       "    <tr style=\"text-align: right;\">\n",
       "      <th></th>\n",
       "      <th>user</th>\n",
       "      <th>item</th>\n",
       "      <th>rating</th>\n",
       "      <th>ts</th>\n",
       "    </tr>\n",
       "  </thead>\n",
       "  <tbody>\n",
       "    <tr>\n",
       "      <th>0</th>\n",
       "      <td>196</td>\n",
       "      <td>242</td>\n",
       "      <td>3</td>\n",
       "      <td>881250949</td>\n",
       "    </tr>\n",
       "    <tr>\n",
       "      <th>1</th>\n",
       "      <td>186</td>\n",
       "      <td>302</td>\n",
       "      <td>3</td>\n",
       "      <td>891717742</td>\n",
       "    </tr>\n",
       "    <tr>\n",
       "      <th>2</th>\n",
       "      <td>22</td>\n",
       "      <td>377</td>\n",
       "      <td>1</td>\n",
       "      <td>878887116</td>\n",
       "    </tr>\n",
       "    <tr>\n",
       "      <th>3</th>\n",
       "      <td>244</td>\n",
       "      <td>51</td>\n",
       "      <td>2</td>\n",
       "      <td>880606923</td>\n",
       "    </tr>\n",
       "    <tr>\n",
       "      <th>4</th>\n",
       "      <td>166</td>\n",
       "      <td>346</td>\n",
       "      <td>1</td>\n",
       "      <td>886397596</td>\n",
       "    </tr>\n",
       "    <tr>\n",
       "      <th>...</th>\n",
       "      <td>...</td>\n",
       "      <td>...</td>\n",
       "      <td>...</td>\n",
       "      <td>...</td>\n",
       "    </tr>\n",
       "    <tr>\n",
       "      <th>99995</th>\n",
       "      <td>880</td>\n",
       "      <td>476</td>\n",
       "      <td>3</td>\n",
       "      <td>880175444</td>\n",
       "    </tr>\n",
       "    <tr>\n",
       "      <th>99996</th>\n",
       "      <td>716</td>\n",
       "      <td>204</td>\n",
       "      <td>5</td>\n",
       "      <td>879795543</td>\n",
       "    </tr>\n",
       "    <tr>\n",
       "      <th>99997</th>\n",
       "      <td>276</td>\n",
       "      <td>1090</td>\n",
       "      <td>1</td>\n",
       "      <td>874795795</td>\n",
       "    </tr>\n",
       "    <tr>\n",
       "      <th>99998</th>\n",
       "      <td>13</td>\n",
       "      <td>225</td>\n",
       "      <td>2</td>\n",
       "      <td>882399156</td>\n",
       "    </tr>\n",
       "    <tr>\n",
       "      <th>99999</th>\n",
       "      <td>12</td>\n",
       "      <td>203</td>\n",
       "      <td>3</td>\n",
       "      <td>879959583</td>\n",
       "    </tr>\n",
       "  </tbody>\n",
       "</table>\n",
       "<p>100000 rows × 4 columns</p>\n",
       "</div>"
      ],
      "text/plain": [
       "       user  item  rating         ts\n",
       "0       196   242       3  881250949\n",
       "1       186   302       3  891717742\n",
       "2        22   377       1  878887116\n",
       "3       244    51       2  880606923\n",
       "4       166   346       1  886397596\n",
       "...     ...   ...     ...        ...\n",
       "99995   880   476       3  880175444\n",
       "99996   716   204       5  879795543\n",
       "99997   276  1090       1  874795795\n",
       "99998    13   225       2  882399156\n",
       "99999    12   203       3  879959583\n",
       "\n",
       "[100000 rows x 4 columns]"
      ]
     },
     "execution_count": 50,
     "metadata": {},
     "output_type": "execute_result"
    }
   ],
   "source": [
    "ratings_lens = pd.DataFrame.copy(ratings, deep=True)\n",
    "ratings_lens.columns = ['user','item','rating','ts']\n",
    "ratings_lens"
   ]
  },
  {
   "cell_type": "code",
   "execution_count": 51,
   "metadata": {},
   "outputs": [],
   "source": [
    "#Definir funcion para obtener recomendaciones y guardarlas\n",
    "def eval(aname, algo, train, test):\n",
    "    fittable = util.clone(algo)\n",
    "    fittable = Recommender.adapt(fittable)\n",
    "    fittable.fit(train)\n",
    "    users = test.user.unique()\n",
    "    # now we run the recommender\n",
    "    recs = batch.recommend(fittable, users, 100)\n",
    "    # add the algorithm name for analyzability\n",
    "    recs['Algorithm'] = aname\n",
    "    return recs"
   ]
  },
  {
   "cell_type": "code",
   "execution_count": 52,
   "metadata": {},
   "outputs": [
    {
     "name": "stderr",
     "output_type": "stream",
     "text": [
      "C:\\Users\\jagv1\\anaconda3\\lib\\site-packages\\lenskit\\algorithms\\item_knn.py:119: NumbaTypeSafetyWarning: \u001b[1m\u001b[1m\u001b[1munsafe cast from uint64 to int64. Precision may be lost.\u001b[0m\u001b[0m\u001b[0m\n",
      "  b = blocks[bi]\n"
     ]
    }
   ],
   "source": [
    "all_recs = []\n",
    "test_data = []\n",
    "for train, test in xf.partition_users(ratings_lens[['user', 'item', 'rating']], 5, xf.SampleFrac(0.2)):\n",
    "    test_data.append(test)\n",
    "    all_recs.append(eval('ItemItem', algo_ii, train, test))\n",
    "    all_recs.append(eval('UserUser', algo_uu, train, test))"
   ]
  },
  {
   "cell_type": "code",
   "execution_count": 53,
   "metadata": {},
   "outputs": [],
   "source": [
    "#Concatenar todas las recomendaciones y test en un mismo df para poder usar el comparador de resultados de lenskit\n",
    "tot_recs = pd.concat(all_recs, ignore_index=True)\n",
    "tot_test = pd.concat(test_data, ignore_index=True)"
   ]
  },
  {
   "cell_type": "code",
   "execution_count": 54,
   "metadata": {},
   "outputs": [
    {
     "data": {
      "text/html": [
       "<div>\n",
       "<style scoped>\n",
       "    .dataframe tbody tr th:only-of-type {\n",
       "        vertical-align: middle;\n",
       "    }\n",
       "\n",
       "    .dataframe tbody tr th {\n",
       "        vertical-align: top;\n",
       "    }\n",
       "\n",
       "    .dataframe thead th {\n",
       "        text-align: right;\n",
       "    }\n",
       "</style>\n",
       "<table border=\"1\" class=\"dataframe\">\n",
       "  <thead>\n",
       "    <tr style=\"text-align: right;\">\n",
       "      <th></th>\n",
       "      <th></th>\n",
       "      <th>nrecs</th>\n",
       "      <th>ndcg</th>\n",
       "    </tr>\n",
       "    <tr>\n",
       "      <th>Algorithm</th>\n",
       "      <th>user</th>\n",
       "      <th></th>\n",
       "      <th></th>\n",
       "    </tr>\n",
       "  </thead>\n",
       "  <tbody>\n",
       "    <tr>\n",
       "      <th rowspan=\"5\" valign=\"top\">ItemItem</th>\n",
       "      <th>1</th>\n",
       "      <td>100.0</td>\n",
       "      <td>0.158478</td>\n",
       "    </tr>\n",
       "    <tr>\n",
       "      <th>2</th>\n",
       "      <td>100.0</td>\n",
       "      <td>0.044545</td>\n",
       "    </tr>\n",
       "    <tr>\n",
       "      <th>3</th>\n",
       "      <td>100.0</td>\n",
       "      <td>0.000000</td>\n",
       "    </tr>\n",
       "    <tr>\n",
       "      <th>4</th>\n",
       "      <td>100.0</td>\n",
       "      <td>0.000000</td>\n",
       "    </tr>\n",
       "    <tr>\n",
       "      <th>5</th>\n",
       "      <td>100.0</td>\n",
       "      <td>0.146191</td>\n",
       "    </tr>\n",
       "  </tbody>\n",
       "</table>\n",
       "</div>"
      ],
      "text/plain": [
       "                nrecs      ndcg\n",
       "Algorithm user                 \n",
       "ItemItem  1     100.0  0.158478\n",
       "          2     100.0  0.044545\n",
       "          3     100.0  0.000000\n",
       "          4     100.0  0.000000\n",
       "          5     100.0  0.146191"
      ]
     },
     "execution_count": 54,
     "metadata": {},
     "output_type": "execute_result"
    }
   ],
   "source": [
    "#Evaluar el NDGC para ambos algoritmos (normalized discounted cumulative gain)\n",
    "rla = topn.RecListAnalysis()\n",
    "rla.add_metric(topn.ndcg)\n",
    "results = rla.compute(tot_recs, tot_test)\n",
    "results.head()"
   ]
  },
  {
   "cell_type": "code",
   "execution_count": 55,
   "metadata": {},
   "outputs": [
    {
     "data": {
      "text/plain": [
       "<AxesSubplot:xlabel='Algorithm'>"
      ]
     },
     "execution_count": 55,
     "metadata": {},
     "output_type": "execute_result"
    },
    {
     "data": {
      "image/png": "[encoded data removed]",
      "text/plain": [
       "<Figure size 432x288 with 1 Axes>"
      ]
     },
     "metadata": {
      "needs_background": "light"
     },
     "output_type": "display_data"
    }
   ],
   "source": [
    "#Calcular la media del NDGC para cada uno de los algoritmos (mayor media = mejor resultado)\n",
    "results.groupby('Algorithm').ndcg.mean().plot.bar()"
   ]
  },
  {
   "cell_type": "code",
   "execution_count": null,
   "metadata": {},
   "outputs": [],
   "source": []
  }
 ],
 "metadata": {
  "colab": {
   "collapsed_sections": [],
   "include_colab_link": true,
   "name": "MINE_4201_SR_Laboratorio_1.ipynb",
   "provenance": []
  },
  "kernelspec": {
   "display_name": "Python 3",
   "language": "python",
   "name": "python3"
  },
  "language_info": {
   "codemirror_mode": {
    "name": "ipython",
    "version": 3
   },
   "file_extension": ".py",
   "mimetype": "text/x-python",
   "name": "python",
   "nbconvert_exporter": "python",
   "pygments_lexer": "ipython3",
   "version": "3.8.5"
  }
 },
 "nbformat": 4,
 "nbformat_minor": 1
}
